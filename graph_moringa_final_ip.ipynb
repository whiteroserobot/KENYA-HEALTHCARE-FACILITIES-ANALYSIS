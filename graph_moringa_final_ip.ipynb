{
  "cells": [
    {
      "cell_type": "markdown",
      "metadata": {
        "id": "Z5i0vDMR48Eo"
      },
      "source": [
        "# KENYA HEALTHCARE FACILITIES ANALYSIS"
      ]
    },
    {
      "cell_type": "markdown",
      "metadata": {
        "id": "IIfATULvIEwm"
      },
      "source": [
        "Good health is central to human happiness and well-being that contributes significantly to prosperity and wealth and even economic progress, as healthy populations are more productive, save more and live longer. In this project, we want to point out counties that are in dire need of attention from the government health sector and any other funding organizations in order to boost the general health care of the population.\n"
      ]
    },
    {
      "cell_type": "markdown",
      "metadata": {
        "id": "w_rMgMnX5Y4m"
      },
      "source": [
        "# Loading our libraries"
      ]
    },
    {
      "cell_type": "code",
      "execution_count": 60,
      "metadata": {
        "id": "TcIplesv4jrh"
      },
      "outputs": [],
      "source": [
        "# importing pandas\n",
        "import pandas as pd\n",
        "\n",
        "# importing numpy \n",
        "import numpy as np \n",
        "\n",
        "# importing pyplot\n",
        "import matplotlib.pyplot as plt\n",
        "\n",
        "# importing seaborn\n",
        "import seaborn as sns\n",
        "import streamlit as st"
      ]
    },
    {
      "cell_type": "markdown",
      "metadata": {
        "id": "o_vJ-Ex75ivu"
      },
      "source": [
        "\n",
        "# Loading the dataset to our environment"
      ]
    },
    {
      "cell_type": "code",
      "execution_count": 61,
      "metadata": {
        "id": "Kd5aN9My-fBG"
      },
      "outputs": [],
      "source": [
        "# Loading the healthcare facilities dataset\n",
        "# url = 'https://africaopendata.org/dataset/3e95b5cb-39f5-44d3-94b6-f2d5285b0478/resource/0257f153-7228-49ef-b330-8e8ed3c7c7e8/download/ehealth-kenya-facilities-download-21102015.xls'\n",
        "\n",
        "hospitals = pd.read_csv('ehealth.csv')\n"
      ]
    },
    {
      "cell_type": "code",
      "execution_count": 62,
      "metadata": {
        "colab": {
          "base_uri": "https://localhost:8080/",
          "height": 531
        },
        "id": "ouLnwUBmGPNN",
        "outputId": "893b9618-3082-44d4-efab-9c4c09e8c006"
      },
      "outputs": [
        {
          "data": {
            "text/html": [
              "<div>\n",
              "<style scoped>\n",
              "    .dataframe tbody tr th:only-of-type {\n",
              "        vertical-align: middle;\n",
              "    }\n",
              "\n",
              "    .dataframe tbody tr th {\n",
              "        vertical-align: top;\n",
              "    }\n",
              "\n",
              "    .dataframe thead th {\n",
              "        text-align: right;\n",
              "    }\n",
              "</style>\n",
              "<table border=\"1\" class=\"dataframe\">\n",
              "  <thead>\n",
              "    <tr style=\"text-align: right;\">\n",
              "      <th></th>\n",
              "      <th>Facility Code</th>\n",
              "      <th>Facility Name</th>\n",
              "      <th>Province</th>\n",
              "      <th>County</th>\n",
              "      <th>District</th>\n",
              "      <th>Division</th>\n",
              "      <th>Type</th>\n",
              "      <th>Owner</th>\n",
              "      <th>Location</th>\n",
              "      <th>Sub Location</th>\n",
              "      <th>...</th>\n",
              "      <th>IPD</th>\n",
              "      <th>OPD</th>\n",
              "      <th>OUTREACH</th>\n",
              "      <th>PMTCT</th>\n",
              "      <th>RAD/XRAY</th>\n",
              "      <th>RHTC/RHDC</th>\n",
              "      <th>TB DIAG</th>\n",
              "      <th>TB LABS</th>\n",
              "      <th>TB TREAT</th>\n",
              "      <th>YOUTH</th>\n",
              "    </tr>\n",
              "  </thead>\n",
              "  <tbody>\n",
              "    <tr>\n",
              "      <th>0</th>\n",
              "      <td>19224</td>\n",
              "      <td>CDF Kiriari Dispensary</td>\n",
              "      <td>Eastern</td>\n",
              "      <td>Embu</td>\n",
              "      <td>Manyatta</td>\n",
              "      <td>Manyatta</td>\n",
              "      <td>Dispensary</td>\n",
              "      <td>Ministry of Health</td>\n",
              "      <td>Ruguru</td>\n",
              "      <td>Ruguru</td>\n",
              "      <td>...</td>\n",
              "      <td>NaN</td>\n",
              "      <td>NaN</td>\n",
              "      <td>NaN</td>\n",
              "      <td>NaN</td>\n",
              "      <td>NaN</td>\n",
              "      <td>NaN</td>\n",
              "      <td>NaN</td>\n",
              "      <td>NaN</td>\n",
              "      <td>NaN</td>\n",
              "      <td>NaN</td>\n",
              "    </tr>\n",
              "    <tr>\n",
              "      <th>1</th>\n",
              "      <td>19310</td>\n",
              "      <td>St Jude's Huruma Community Health Services</td>\n",
              "      <td>Nairobi</td>\n",
              "      <td>Nairobi</td>\n",
              "      <td>Mathare</td>\n",
              "      <td>Huruma</td>\n",
              "      <td>Medical Clinic</td>\n",
              "      <td>Private Practice - Unspecified</td>\n",
              "      <td>Huruma</td>\n",
              "      <td>Huruma</td>\n",
              "      <td>...</td>\n",
              "      <td>NaN</td>\n",
              "      <td>NaN</td>\n",
              "      <td>NaN</td>\n",
              "      <td>NaN</td>\n",
              "      <td>NaN</td>\n",
              "      <td>NaN</td>\n",
              "      <td>NaN</td>\n",
              "      <td>NaN</td>\n",
              "      <td>NaN</td>\n",
              "      <td>NaN</td>\n",
              "    </tr>\n",
              "    <tr>\n",
              "      <th>2</th>\n",
              "      <td>14180</td>\n",
              "      <td>10 Engineer VCT</td>\n",
              "      <td>Rift Valley</td>\n",
              "      <td>Laikipia</td>\n",
              "      <td>Laikipia East</td>\n",
              "      <td>Central</td>\n",
              "      <td>Dispensary</td>\n",
              "      <td>Armed Forces</td>\n",
              "      <td>Nanyuki</td>\n",
              "      <td>Majengo</td>\n",
              "      <td>...</td>\n",
              "      <td>NaN</td>\n",
              "      <td>NaN</td>\n",
              "      <td>NaN</td>\n",
              "      <td>NaN</td>\n",
              "      <td>NaN</td>\n",
              "      <td>NaN</td>\n",
              "      <td>NaN</td>\n",
              "      <td>NaN</td>\n",
              "      <td>NaN</td>\n",
              "      <td>NaN</td>\n",
              "    </tr>\n",
              "    <tr>\n",
              "      <th>3</th>\n",
              "      <td>17486</td>\n",
              "      <td>12 Engineers</td>\n",
              "      <td>Central</td>\n",
              "      <td>Kiambu</td>\n",
              "      <td>Thika West</td>\n",
              "      <td>NaN</td>\n",
              "      <td>Dispensary</td>\n",
              "      <td>Ministry of Health</td>\n",
              "      <td>NaN</td>\n",
              "      <td>NaN</td>\n",
              "      <td>...</td>\n",
              "      <td>NaN</td>\n",
              "      <td>NaN</td>\n",
              "      <td>NaN</td>\n",
              "      <td>NaN</td>\n",
              "      <td>NaN</td>\n",
              "      <td>NaN</td>\n",
              "      <td>NaN</td>\n",
              "      <td>NaN</td>\n",
              "      <td>NaN</td>\n",
              "      <td>NaN</td>\n",
              "    </tr>\n",
              "    <tr>\n",
              "      <th>4</th>\n",
              "      <td>18393</td>\n",
              "      <td>3Kl Maternity &amp; Nursing Home</td>\n",
              "      <td>Rift Valley</td>\n",
              "      <td>Kajiado</td>\n",
              "      <td>Kajiado North</td>\n",
              "      <td>Ongata Rongai</td>\n",
              "      <td>Nursing Home</td>\n",
              "      <td>Private Practice - Clinical Officer</td>\n",
              "      <td>Gataka</td>\n",
              "      <td>Gataka</td>\n",
              "      <td>...</td>\n",
              "      <td>NaN</td>\n",
              "      <td>NaN</td>\n",
              "      <td>NaN</td>\n",
              "      <td>NaN</td>\n",
              "      <td>NaN</td>\n",
              "      <td>NaN</td>\n",
              "      <td>NaN</td>\n",
              "      <td>NaN</td>\n",
              "      <td>NaN</td>\n",
              "      <td>NaN</td>\n",
              "    </tr>\n",
              "  </tbody>\n",
              "</table>\n",
              "<p>5 rows × 50 columns</p>\n",
              "</div>"
            ],
            "text/plain": [
              "   Facility Code                                Facility Name     Province  \\\n",
              "0          19224                       CDF Kiriari Dispensary      Eastern   \n",
              "1          19310   St Jude's Huruma Community Health Services      Nairobi   \n",
              "2          14180                              10 Engineer VCT  Rift Valley   \n",
              "3          17486                                 12 Engineers      Central   \n",
              "4          18393                 3Kl Maternity & Nursing Home  Rift Valley   \n",
              "\n",
              "     County       District       Division            Type  \\\n",
              "0      Embu       Manyatta       Manyatta      Dispensary   \n",
              "1   Nairobi        Mathare         Huruma  Medical Clinic   \n",
              "2  Laikipia  Laikipia East        Central      Dispensary   \n",
              "3    Kiambu     Thika West            NaN      Dispensary   \n",
              "4   Kajiado  Kajiado North  Ongata Rongai    Nursing Home   \n",
              "\n",
              "                                 Owner Location Sub Location  ...  IPD OPD  \\\n",
              "0                   Ministry of Health   Ruguru       Ruguru  ...  NaN NaN   \n",
              "1       Private Practice - Unspecified   Huruma       Huruma  ...  NaN NaN   \n",
              "2                         Armed Forces  Nanyuki      Majengo  ...  NaN NaN   \n",
              "3                   Ministry of Health      NaN          NaN  ...  NaN NaN   \n",
              "4  Private Practice - Clinical Officer   Gataka       Gataka  ...  NaN NaN   \n",
              "\n",
              "  OUTREACH  PMTCT  RAD/XRAY RHTC/RHDC TB DIAG TB LABS TB TREAT YOUTH  \n",
              "0      NaN    NaN       NaN       NaN     NaN     NaN      NaN   NaN  \n",
              "1      NaN    NaN       NaN       NaN     NaN     NaN      NaN   NaN  \n",
              "2      NaN    NaN       NaN       NaN     NaN     NaN      NaN   NaN  \n",
              "3      NaN    NaN       NaN       NaN     NaN     NaN      NaN   NaN  \n",
              "4      NaN    NaN       NaN       NaN     NaN     NaN      NaN   NaN  \n",
              "\n",
              "[5 rows x 50 columns]"
            ]
          },
          "execution_count": 62,
          "metadata": {},
          "output_type": "execute_result"
        }
      ],
      "source": [
        "# Preview the dataset \n",
        "hospitals.head()"
      ]
    },
    {
      "cell_type": "code",
      "execution_count": 63,
      "metadata": {
        "id": "FFfZZMeY50CG"
      },
      "outputs": [],
      "source": [
        "# Loading the number of icubeds per county dataset\n",
        "url = 'https://data.humdata.org/dataset/e231c2f5-11c6-4006-b0f8-f6cb41410b30/resource/57af4fb4-1141-41aa-a5f8-a92ccd5663c9/download/number-of-icu-beds-per-county.xlsx'\n",
        "\n",
        "icubeds = pd.read_excel(url)"
      ]
    },
    {
      "cell_type": "code",
      "execution_count": 64,
      "metadata": {
        "colab": {
          "base_uri": "https://localhost:8080/",
          "height": 112
        },
        "id": "j9Mkr6bn-MO6",
        "outputId": "4fe9b585-2f3d-4c4d-fa82-9ac13d0a81ee"
      },
      "outputs": [
        {
          "data": {
            "text/html": [
              "<div>\n",
              "<style scoped>\n",
              "    .dataframe tbody tr th:only-of-type {\n",
              "        vertical-align: middle;\n",
              "    }\n",
              "\n",
              "    .dataframe tbody tr th {\n",
              "        vertical-align: top;\n",
              "    }\n",
              "\n",
              "    .dataframe thead th {\n",
              "        text-align: right;\n",
              "    }\n",
              "</style>\n",
              "<table border=\"1\" class=\"dataframe\">\n",
              "  <thead>\n",
              "    <tr style=\"text-align: right;\">\n",
              "      <th></th>\n",
              "      <th>Unnamed: 0</th>\n",
              "      <th>Number of Hospital ICU Beds per county</th>\n",
              "      <th>Unnamed: 2</th>\n",
              "      <th>Unnamed: 3</th>\n",
              "    </tr>\n",
              "  </thead>\n",
              "  <tbody>\n",
              "    <tr>\n",
              "      <th>58</th>\n",
              "      <td>NaN</td>\n",
              "      <td>Bomet</td>\n",
              "      <td>Longisa</td>\n",
              "      <td>0</td>\n",
              "    </tr>\n",
              "    <tr>\n",
              "      <th>59</th>\n",
              "      <td>NaN</td>\n",
              "      <td>Bomet</td>\n",
              "      <td>Tenwek</td>\n",
              "      <td>NaN</td>\n",
              "    </tr>\n",
              "  </tbody>\n",
              "</table>\n",
              "</div>"
            ],
            "text/plain": [
              "    Unnamed: 0 Number of Hospital ICU Beds per county Unnamed: 2 Unnamed: 3\n",
              "58         NaN                                  Bomet    Longisa          0\n",
              "59         NaN                                  Bomet     Tenwek        NaN"
            ]
          },
          "execution_count": 64,
          "metadata": {},
          "output_type": "execute_result"
        }
      ],
      "source": [
        "# Preview icubeds dataset\n",
        "icubeds.head(0)\n",
        "#icubeds.isnull().sum()\n",
        "#np.count_nonzero(icubeds['Unnamed: 3'].isnull())\n",
        "icubeds.loc[icubeds['Number of Hospital ICU Beds per county'] == 'Bomet']"
      ]
    },
    {
      "cell_type": "code",
      "execution_count": 65,
      "metadata": {
        "id": "W7dW9ZXD_XZx"
      },
      "outputs": [],
      "source": [
        "# Loading health staff dataset per 10000 population\n",
        "url = 'https://open.africa/dataset/4acc4709-cd40-43da-ad95-3b4a1224f97c/resource/43cea114-a929-4984-bd1c-b665d4a7ea5e/download/cfafrica-_-data-team-_-outbreak-_-covid19-_-data-_-openafrica-uploads-_-kenya-healthworkers.csv'\n",
        "\n",
        "healthworkers = pd.read_csv(url)"
      ]
    },
    {
      "cell_type": "code",
      "execution_count": 66,
      "metadata": {
        "colab": {
          "base_uri": "https://localhost:8080/",
          "height": 206
        },
        "id": "yRxUOiiC_wWZ",
        "outputId": "f69decce-62a7-4804-efde-d21ea8e598b4"
      },
      "outputs": [
        {
          "data": {
            "text/html": [
              "<div>\n",
              "<style scoped>\n",
              "    .dataframe tbody tr th:only-of-type {\n",
              "        vertical-align: middle;\n",
              "    }\n",
              "\n",
              "    .dataframe tbody tr th {\n",
              "        vertical-align: top;\n",
              "    }\n",
              "\n",
              "    .dataframe thead th {\n",
              "        text-align: right;\n",
              "    }\n",
              "</style>\n",
              "<table border=\"1\" class=\"dataframe\">\n",
              "  <thead>\n",
              "    <tr style=\"text-align: right;\">\n",
              "      <th></th>\n",
              "      <th>County</th>\n",
              "      <th>Core health workforce per 10,000\\rpopulation</th>\n",
              "    </tr>\n",
              "  </thead>\n",
              "  <tbody>\n",
              "    <tr>\n",
              "      <th>43</th>\n",
              "      <td>Uasin gishu</td>\n",
              "      <td>28.2</td>\n",
              "    </tr>\n",
              "    <tr>\n",
              "      <th>44</th>\n",
              "      <td>Vihiga</td>\n",
              "      <td>12.2</td>\n",
              "    </tr>\n",
              "    <tr>\n",
              "      <th>45</th>\n",
              "      <td>Wajir</td>\n",
              "      <td>6.1</td>\n",
              "    </tr>\n",
              "    <tr>\n",
              "      <th>46</th>\n",
              "      <td>West pokot</td>\n",
              "      <td>9.3</td>\n",
              "    </tr>\n",
              "    <tr>\n",
              "      <th>47</th>\n",
              "      <td>Total</td>\n",
              "      <td>15.6</td>\n",
              "    </tr>\n",
              "  </tbody>\n",
              "</table>\n",
              "</div>"
            ],
            "text/plain": [
              "         County  Core health workforce per 10,000\\rpopulation\n",
              "43  Uasin gishu                                          28.2\n",
              "44       Vihiga                                          12.2\n",
              "45        Wajir                                           6.1\n",
              "46   West pokot                                           9.3\n",
              "47        Total                                          15.6"
            ]
          },
          "execution_count": 66,
          "metadata": {},
          "output_type": "execute_result"
        }
      ],
      "source": [
        "#Preview the dataset\n",
        "healthworkers.tail()\n",
        "#healthworkers.shape"
      ]
    },
    {
      "cell_type": "code",
      "execution_count": 67,
      "metadata": {
        "id": "ssnLVhsyApw4"
      },
      "outputs": [],
      "source": [
        "# Loading the population per county dataset\n",
        "url = 'https://data.humdata.org/dataset/fa58ed8d-1daa-48b6-bae1-19746c32c85f/resource/82f909ce-7358-48da-9639-8fe9c3318251/download/2019-population_census-report-per-county.csv'\n",
        "population = pd.read_csv(url)"
      ]
    },
    {
      "cell_type": "code",
      "execution_count": 68,
      "metadata": {
        "colab": {
          "base_uri": "https://localhost:8080/",
          "height": 322
        },
        "id": "RC_eBvfFA3Bj",
        "outputId": "fb0c67f9-1855-4e80-a5ee-f64c9bcc2034"
      },
      "outputs": [
        {
          "data": {
            "text/html": [
              "<div>\n",
              "<style scoped>\n",
              "    .dataframe tbody tr th:only-of-type {\n",
              "        vertical-align: middle;\n",
              "    }\n",
              "\n",
              "    .dataframe tbody tr th {\n",
              "        vertical-align: top;\n",
              "    }\n",
              "\n",
              "    .dataframe thead th {\n",
              "        text-align: right;\n",
              "    }\n",
              "</style>\n",
              "<table border=\"1\" class=\"dataframe\">\n",
              "  <thead>\n",
              "    <tr style=\"text-align: right;\">\n",
              "      <th></th>\n",
              "      <th>County</th>\n",
              "      <th>Total_Population19</th>\n",
              "      <th>Male populatio 2019</th>\n",
              "      <th>Female population 2019</th>\n",
              "      <th>Households</th>\n",
              "      <th>Av_HH_Size</th>\n",
              "      <th>LandArea</th>\n",
              "      <th>Population Density</th>\n",
              "      <th>Population in 2009</th>\n",
              "      <th>Pop_change</th>\n",
              "      <th>Intersex population 2019</th>\n",
              "    </tr>\n",
              "  </thead>\n",
              "  <tbody>\n",
              "    <tr>\n",
              "      <th>0</th>\n",
              "      <td>Baringo</td>\n",
              "      <td>666,763</td>\n",
              "      <td>336,322</td>\n",
              "      <td>330,428</td>\n",
              "      <td>142,518</td>\n",
              "      <td>5</td>\n",
              "      <td>10,976</td>\n",
              "      <td>61</td>\n",
              "      <td>555,561</td>\n",
              "      <td>111,202</td>\n",
              "      <td>13</td>\n",
              "    </tr>\n",
              "    <tr>\n",
              "      <th>1</th>\n",
              "      <td>Bomet</td>\n",
              "      <td>875,689</td>\n",
              "      <td>434,287</td>\n",
              "      <td>441,379</td>\n",
              "      <td>187,641</td>\n",
              "      <td>5</td>\n",
              "      <td>2,531</td>\n",
              "      <td>346</td>\n",
              "      <td>724,186</td>\n",
              "      <td>151,503</td>\n",
              "      <td>23</td>\n",
              "    </tr>\n",
              "    <tr>\n",
              "      <th>2</th>\n",
              "      <td>Bungoma</td>\n",
              "      <td>1,670,570</td>\n",
              "      <td>812,146</td>\n",
              "      <td>858,389</td>\n",
              "      <td>358,796</td>\n",
              "      <td>5</td>\n",
              "      <td>3,024</td>\n",
              "      <td>552</td>\n",
              "      <td>1,630,934</td>\n",
              "      <td>39,636</td>\n",
              "      <td>35</td>\n",
              "    </tr>\n",
              "    <tr>\n",
              "      <th>3</th>\n",
              "      <td>Busia</td>\n",
              "      <td>893,681</td>\n",
              "      <td>426,252</td>\n",
              "      <td>467,401</td>\n",
              "      <td>198,152</td>\n",
              "      <td>5</td>\n",
              "      <td>1,696</td>\n",
              "      <td>527</td>\n",
              "      <td>488,075</td>\n",
              "      <td>405,606</td>\n",
              "      <td>28</td>\n",
              "    </tr>\n",
              "    <tr>\n",
              "      <th>4</th>\n",
              "      <td>Elgeyo-Marakwet</td>\n",
              "      <td>454,480</td>\n",
              "      <td>227,317</td>\n",
              "      <td>227,151</td>\n",
              "      <td>99,861</td>\n",
              "      <td>5</td>\n",
              "      <td>3,032</td>\n",
              "      <td>150</td>\n",
              "      <td>369,998</td>\n",
              "      <td>84,482</td>\n",
              "      <td>12</td>\n",
              "    </tr>\n",
              "  </tbody>\n",
              "</table>\n",
              "</div>"
            ],
            "text/plain": [
              "            County Total_Population19 Male populatio 2019  \\\n",
              "0          Baringo           666,763             336,322    \n",
              "1            Bomet           875,689             434,287    \n",
              "2          Bungoma         1,670,570             812,146    \n",
              "3            Busia           893,681             426,252    \n",
              "4  Elgeyo-Marakwet           454,480             227,317    \n",
              "\n",
              "  Female population 2019 Households  Av_HH_Size  LandArea Population Density  \\\n",
              "0               330,428    142,518            5   10,976                 61    \n",
              "1               441,379    187,641            5    2,531                346    \n",
              "2               858,389    358,796            5    3,024                552    \n",
              "3               467,401    198,152            5    1,696                527    \n",
              "4               227,151     99,861            5    3,032                150    \n",
              "\n",
              "  Population in 2009 Pop_change  Intersex population 2019  \n",
              "0           555,561    111,202                         13  \n",
              "1           724,186    151,503                         23  \n",
              "2         1,630,934     39,636                         35  \n",
              "3           488,075    405,606                         28  \n",
              "4           369,998     84,482                         12  "
            ]
          },
          "execution_count": 68,
          "metadata": {},
          "output_type": "execute_result"
        }
      ],
      "source": [
        "# Preview population dataset\n",
        "population.head()"
      ]
    },
    {
      "cell_type": "markdown",
      "metadata": {
        "id": "jWnAS-h0JCbn"
      },
      "source": [
        "# Getting information about our dataset"
      ]
    },
    {
      "cell_type": "code",
      "execution_count": 69,
      "metadata": {
        "colab": {
          "base_uri": "https://localhost:8080/"
        },
        "id": "U5Bsq0hjJHT-",
        "outputId": "cc61cc69-9cd2-4d6e-dad9-9e13a2073e58"
      },
      "outputs": [
        {
          "name": "stdout",
          "output_type": "stream",
          "text": [
            "<class 'pandas.core.frame.DataFrame'>\n",
            "RangeIndex: 10505 entries, 0 to 10504\n",
            "Data columns (total 50 columns):\n",
            " #   Column                   Non-Null Count  Dtype  \n",
            "---  ------                   --------------  -----  \n",
            " 0   Facility Code            10505 non-null  int64  \n",
            " 1   Facility Name            10505 non-null  object \n",
            " 2   Province                 10505 non-null  object \n",
            " 3   County                   10505 non-null  object \n",
            " 4   District                 10505 non-null  object \n",
            " 5   Division                 10238 non-null  object \n",
            " 6   Type                     10505 non-null  object \n",
            " 7   Owner                    10505 non-null  object \n",
            " 8   Location                 10010 non-null  object \n",
            " 9   Sub Location             9613 non-null   object \n",
            " 10  Description of Location  5304 non-null   object \n",
            " 11  Constituency             10505 non-null  object \n",
            " 12  Nearest Town             9903 non-null   object \n",
            " 13  Beds                     10418 non-null  float64\n",
            " 14  Cots                     10428 non-null  float64\n",
            " 15  Official Landline        1367 non-null   object \n",
            " 16  Official Fax             540 non-null    object \n",
            " 17  Official Mobile          2915 non-null   object \n",
            " 18  Official Email           1858 non-null   object \n",
            " 19  Official Address         7047 non-null   object \n",
            " 20  Official Alternate No    952 non-null    float64\n",
            " 21  Town                     7838 non-null   object \n",
            " 22  Post Code                6680 non-null   object \n",
            " 23  In Charge                8365 non-null   object \n",
            " 24  Job Title of in Charge   7406 non-null   object \n",
            " 25  Open 24 Hours            10058 non-null  object \n",
            " 26  Open Weekends            10048 non-null  object \n",
            " 27  Operational Status       10505 non-null  object \n",
            " 28  ANC                      0 non-null      float64\n",
            " 29  ART                      921 non-null    object \n",
            " 30  BEOC                     0 non-null      float64\n",
            " 31  BLOOD                    0 non-null      float64\n",
            " 32  CAES SEC                 0 non-null      float64\n",
            " 33  CEOC                     0 non-null      float64\n",
            " 34  C-IMCI                   1177 non-null   object \n",
            " 35  EPI                      0 non-null      float64\n",
            " 36  FP                       4288 non-null   object \n",
            " 37  GROWM                    0 non-null      float64\n",
            " 38  HBC                      2798 non-null   object \n",
            " 39  HCT                      0 non-null      float64\n",
            " 40  IPD                      3943 non-null   object \n",
            " 41  OPD                      0 non-null      float64\n",
            " 42  OUTREACH                 0 non-null      float64\n",
            " 43  PMTCT                    0 non-null      float64\n",
            " 44  RAD/XRAY                 0 non-null      float64\n",
            " 45  RHTC/RHDC                0 non-null      float64\n",
            " 46  TB DIAG                  0 non-null      float64\n",
            " 47  TB LABS                  0 non-null      float64\n",
            " 48  TB TREAT                 0 non-null      float64\n",
            " 49  YOUTH                    0 non-null      float64\n",
            "dtypes: float64(20), int64(1), object(29)\n",
            "memory usage: 4.0+ MB\n"
          ]
        }
      ],
      "source": [
        "# info regarding the hospitals dataset\n",
        "hospitals.info()"
      ]
    },
    {
      "cell_type": "markdown",
      "metadata": {
        "id": "AZmgrFNHKB8g"
      },
      "source": [
        "The hospitals dataframe has <b>29 columns and 10505 hospitals</b>. <b><i> Division, Location, sub_location, beds, cots, official fax, official mobile, official address, official landline, official alternate no., town, postcode, in charge, job title of incharge, open 24hrs, open weekends, ART, C-IMCI, FP, HBC and IPD</i></b> have null values.<b><i>ANC, BLOOD, BEOC, CAES SEC, CEOC, EPI, GROWM, HCT, OPD, OUTREACH, PMTC, RAD/XRAY, RHTC/RHDC, TB DIAG, TB LABS, TB TREAT and YOUTH</i></b> have no values."
      ]
    },
    {
      "cell_type": "code",
      "execution_count": 70,
      "metadata": {
        "colab": {
          "base_uri": "https://localhost:8080/"
        },
        "id": "ey_dV0TaJRV5",
        "outputId": "896fbcc3-e67c-4d60-d98f-0c5a7d80b682"
      },
      "outputs": [
        {
          "name": "stdout",
          "output_type": "stream",
          "text": [
            "<class 'pandas.core.frame.DataFrame'>\n",
            "RangeIndex: 100 entries, 0 to 99\n",
            "Data columns (total 4 columns):\n",
            " #   Column                                  Non-Null Count  Dtype  \n",
            "---  ------                                  --------------  -----  \n",
            " 0   Unnamed: 0                              0 non-null      float64\n",
            " 1   Number of Hospital ICU Beds per county  100 non-null    object \n",
            " 2   Unnamed: 2                              100 non-null    object \n",
            " 3   Unnamed: 3                              99 non-null     object \n",
            "dtypes: float64(1), object(3)\n",
            "memory usage: 3.2+ KB\n"
          ]
        }
      ],
      "source": [
        "# Info regarding icebeds dataset\n",
        "icubeds.info()"
      ]
    },
    {
      "cell_type": "markdown",
      "metadata": {
        "id": "b1l2H4dnNu8o"
      },
      "source": [
        "The icubeds dataframe has 4 columns and 100 entries. <b>unnamed: 3</b> coulmn has one null value.  "
      ]
    },
    {
      "cell_type": "code",
      "execution_count": 71,
      "metadata": {
        "colab": {
          "base_uri": "https://localhost:8080/"
        },
        "id": "Z-UTR0CKJouN",
        "outputId": "b0bc8e38-1e83-4112-ab3d-6b527b23dce6"
      },
      "outputs": [
        {
          "name": "stdout",
          "output_type": "stream",
          "text": [
            "<class 'pandas.core.frame.DataFrame'>\n",
            "RangeIndex: 48 entries, 0 to 47\n",
            "Data columns (total 2 columns):\n",
            " #   Column                                       Non-Null Count  Dtype  \n",
            "---  ------                                       --------------  -----  \n",
            " 0   County                                       48 non-null     object \n",
            "population  48 non-null     float6400\n",
            "dtypes: float64(1), object(1)\n",
            "memory usage: 896.0+ bytes\n"
          ]
        }
      ],
      "source": [
        "# Info regarding healthworkers dataset\n",
        "healthworkers.info()"
      ]
    },
    {
      "cell_type": "markdown",
      "metadata": {
        "id": "Y2fJHxU7Op8Z"
      },
      "source": [
        "The healthworkers dataframe has 2 columns and 48 entries. None of the columns have null values."
      ]
    },
    {
      "cell_type": "code",
      "execution_count": 72,
      "metadata": {
        "colab": {
          "base_uri": "https://localhost:8080/"
        },
        "id": "nk1q7wgnJyCV",
        "outputId": "c607b38e-eff1-4a99-f96d-a403dbf56ec3"
      },
      "outputs": [
        {
          "name": "stdout",
          "output_type": "stream",
          "text": [
            "<class 'pandas.core.frame.DataFrame'>\n",
            "RangeIndex: 47 entries, 0 to 46\n",
            "Data columns (total 11 columns):\n",
            " #   Column                    Non-Null Count  Dtype \n",
            "---  ------                    --------------  ----- \n",
            " 0   County                    47 non-null     object\n",
            " 1   Total_Population19        47 non-null     object\n",
            " 2   Male populatio 2019       47 non-null     object\n",
            " 3   Female population 2019    47 non-null     object\n",
            " 4   Households                47 non-null     object\n",
            " 5   Av_HH_Size                47 non-null     int64 \n",
            " 6   LandArea                  47 non-null     object\n",
            " 7   Population Density        47 non-null     object\n",
            " 8   Population in 2009        47 non-null     object\n",
            " 9   Pop_change                47 non-null     object\n",
            " 10  Intersex population 2019  47 non-null     int64 \n",
            "dtypes: int64(2), object(9)\n",
            "memory usage: 4.2+ KB\n"
          ]
        }
      ],
      "source": [
        "# Info regarding population dataset\n",
        "population.info()"
      ]
    },
    {
      "cell_type": "markdown",
      "metadata": {
        "id": "08YlLw53PATQ"
      },
      "source": [
        "The population dataframe has 11 columns and 47 entries representing the 47 counties. There are no missing values in this dataframe."
      ]
    },
    {
      "cell_type": "markdown",
      "metadata": {
        "id": "3C1ba_jjPU2n"
      },
      "source": [
        "# DATA PREPARATION"
      ]
    },
    {
      "cell_type": "markdown",
      "metadata": {
        "id": "r7tcuxU2PsbF"
      },
      "source": [
        "We are first going to drop unnecessary columns in each dataset then merge our dataframes based on similarities."
      ]
    },
    {
      "cell_type": "code",
      "execution_count": 73,
      "metadata": {
        "colab": {
          "base_uri": "https://localhost:8080/"
        },
        "id": "deZuUx4EicrM",
        "outputId": "f345bc98-ada5-4c22-d574-c08017cb5593"
      },
      "outputs": [
        {
          "data": {
            "text/plain": [
              "Index(['Facility Code', 'Facility Name', 'Province', 'County', 'District',\n",
              "       'Division', 'Type', 'Owner', 'Location', 'Sub Location',\n",
              "       'Description of Location', 'Constituency', 'Nearest Town', 'Beds',\n",
              "       'Cots', 'Official Landline', 'Official Fax', 'Official Mobile',\n",
              "       'Official Email', 'Official Address', 'Official Alternate No', 'Town',\n",
              "       'Post Code', 'In Charge', 'Job Title of in Charge', 'Open 24 Hours',\n",
              "       'Open Weekends', 'Operational Status', 'ANC', 'ART', 'BEOC', 'BLOOD',\n",
              "       'CAES SEC', 'CEOC', 'C-IMCI', 'EPI', 'FP', 'GROWM', 'HBC', 'HCT', 'IPD',\n",
              "       'OPD', 'OUTREACH', 'PMTCT', 'RAD/XRAY', 'RHTC/RHDC', 'TB DIAG',\n",
              "       'TB LABS', 'TB TREAT', 'YOUTH'],\n",
              "      dtype='object')"
            ]
          },
          "execution_count": 73,
          "metadata": {},
          "output_type": "execute_result"
        }
      ],
      "source": [
        "hospitals.columns"
      ]
    },
    {
      "cell_type": "code",
      "execution_count": 74,
      "metadata": {
        "colab": {
          "base_uri": "https://localhost:8080/"
        },
        "id": "iVCNJnwsg3Vq",
        "outputId": "a105c531-0168-4e4d-e18b-8d1ef22d73c0"
      },
      "outputs": [
        {
          "data": {
            "text/plain": [
              "Index(['County', 'Total_Population19', 'Male populatio 2019',\n",
              "       'Female population 2019', 'Households', 'Av_HH_Size', 'LandArea',\n",
              "       'Population Density', 'Population in 2009', 'Pop_change',\n",
              "       'Intersex population 2019'],\n",
              "      dtype='object')"
            ]
          },
          "execution_count": 74,
          "metadata": {},
          "output_type": "execute_result"
        }
      ],
      "source": [
        "population.columns"
      ]
    },
    {
      "cell_type": "code",
      "execution_count": 75,
      "metadata": {
        "colab": {
          "base_uri": "https://localhost:8080/"
        },
        "id": "8IZa-utVlfaV",
        "outputId": "69deb691-690f-4909-e0b4-839cd00e7029"
      },
      "outputs": [
        {
          "data": {
            "text/plain": [
              "Index(['Unnamed: 0', 'Number of Hospital ICU Beds per county', 'Unnamed: 2',\n",
              "       'Unnamed: 3'],\n",
              "      dtype='object')"
            ]
          },
          "execution_count": 75,
          "metadata": {},
          "output_type": "execute_result"
        }
      ],
      "source": [
        "icubeds.columns"
      ]
    },
    {
      "cell_type": "code",
      "execution_count": 76,
      "metadata": {
        "colab": {
          "base_uri": "https://localhost:8080/",
          "height": 206
        },
        "id": "Dn_aYiL5RhzF",
        "outputId": "c5da3884-058e-48d3-c13f-5b0239c3cf71"
      },
      "outputs": [
        {
          "data": {
            "text/html": [
              "<div>\n",
              "<style scoped>\n",
              "    .dataframe tbody tr th:only-of-type {\n",
              "        vertical-align: middle;\n",
              "    }\n",
              "\n",
              "    .dataframe tbody tr th {\n",
              "        vertical-align: top;\n",
              "    }\n",
              "\n",
              "    .dataframe thead th {\n",
              "        text-align: right;\n",
              "    }\n",
              "</style>\n",
              "<table border=\"1\" class=\"dataframe\">\n",
              "  <thead>\n",
              "    <tr style=\"text-align: right;\">\n",
              "      <th></th>\n",
              "      <th>Number of Hospital ICU Beds per county</th>\n",
              "      <th>Unnamed: 3</th>\n",
              "    </tr>\n",
              "  </thead>\n",
              "  <tbody>\n",
              "    <tr>\n",
              "      <th>0</th>\n",
              "      <td>County</td>\n",
              "      <td>Number of beds</td>\n",
              "    </tr>\n",
              "    <tr>\n",
              "      <th>1</th>\n",
              "      <td>Kwale</td>\n",
              "      <td>6</td>\n",
              "    </tr>\n",
              "    <tr>\n",
              "      <th>2</th>\n",
              "      <td>Mombasa</td>\n",
              "      <td>12</td>\n",
              "    </tr>\n",
              "    <tr>\n",
              "      <th>3</th>\n",
              "      <td>Mombasa</td>\n",
              "      <td>6</td>\n",
              "    </tr>\n",
              "    <tr>\n",
              "      <th>4</th>\n",
              "      <td>Mombasa</td>\n",
              "      <td>6</td>\n",
              "    </tr>\n",
              "  </tbody>\n",
              "</table>\n",
              "</div>"
            ],
            "text/plain": [
              "  Number of Hospital ICU Beds per county      Unnamed: 3\n",
              "0                                 County  Number of beds\n",
              "1                                  Kwale               6\n",
              "2                                Mombasa              12\n",
              "3                                Mombasa               6\n",
              "4                                Mombasa               6"
            ]
          },
          "execution_count": 76,
          "metadata": {},
          "output_type": "execute_result"
        }
      ],
      "source": [
        "# Dropping irrelevant columns\n",
        "\n",
        "# Create a function to drop tables\n",
        "def drop_columns(dataframe, columns):\n",
        "  # Use the drop method on the dataframe to drop a list of columns\n",
        "  dataframe.drop(columns, axis=1, inplace=True)\n",
        "  # Return the dataframe without the dropped columns\n",
        "  return dataframe.head()\n",
        "\n",
        "hospitals_columns = ['Official Fax', 'Official Mobile', 'Official Address', 'Official Landline', \n",
        "                     'Official Alternate No','Official Email', 'Description of Location', 'Town','Post Code', 'In Charge', \n",
        "                     'Job Title of in Charge','Division', 'Location', 'Sub Location','ANC', 'BLOOD', 'BEOC', \n",
        "                     'CAES SEC', 'CEOC', 'EPI', 'GROWM', 'HCT', 'OPD', 'OUTREACH', 'PMTCT', 'RAD/XRAY', 'RHTC/RHDC', \n",
        "                     'TB DIAG', 'TB LABS', 'TB TREAT', 'YOUTH']\n",
        "\n",
        "population_columns = ['Male populatio 2019','Female population 2019','Households','Av_HH_Size','LandArea', \n",
        "                      'Population Density','Population in 2009','Pop_change','Intersex population 2019'] \n",
        "\n",
        "icubeds_columns = ['Unnamed: 0', 'Unnamed: 2']\n",
        "drop_columns(hospitals,hospitals_columns)\n",
        "drop_columns(population, population_columns)\n",
        "drop_columns(icubeds, icubeds_columns)\n",
        "\n",
        "\n"
      ]
    },
    {
      "cell_type": "code",
      "execution_count": 77,
      "metadata": {
        "colab": {
          "base_uri": "https://localhost:8080/",
          "height": 363
        },
        "id": "tQTsLolGmwOR",
        "outputId": "c4c39dc8-4fad-41a8-ea84-d9b1037b8b46"
      },
      "outputs": [
        {
          "data": {
            "text/html": [
              "<div>\n",
              "<style scoped>\n",
              "    .dataframe tbody tr th:only-of-type {\n",
              "        vertical-align: middle;\n",
              "    }\n",
              "\n",
              "    .dataframe tbody tr th {\n",
              "        vertical-align: top;\n",
              "    }\n",
              "\n",
              "    .dataframe thead th {\n",
              "        text-align: right;\n",
              "    }\n",
              "</style>\n",
              "<table border=\"1\" class=\"dataframe\">\n",
              "  <thead>\n",
              "    <tr style=\"text-align: right;\">\n",
              "      <th></th>\n",
              "      <th>Number of Hospital ICU Beds per county</th>\n",
              "      <th>Unnamed: 3</th>\n",
              "    </tr>\n",
              "  </thead>\n",
              "  <tbody>\n",
              "    <tr>\n",
              "      <th>0</th>\n",
              "      <td>Baringo</td>\n",
              "      <td>0</td>\n",
              "    </tr>\n",
              "    <tr>\n",
              "      <th>1</th>\n",
              "      <td>Bomet</td>\n",
              "      <td>0</td>\n",
              "    </tr>\n",
              "    <tr>\n",
              "      <th>2</th>\n",
              "      <td>Bungoma</td>\n",
              "      <td>23</td>\n",
              "    </tr>\n",
              "    <tr>\n",
              "      <th>3</th>\n",
              "      <td>Busia</td>\n",
              "      <td>0</td>\n",
              "    </tr>\n",
              "    <tr>\n",
              "      <th>4</th>\n",
              "      <td>Embu</td>\n",
              "      <td>5</td>\n",
              "    </tr>\n",
              "    <tr>\n",
              "      <th>5</th>\n",
              "      <td>Garissa</td>\n",
              "      <td>6</td>\n",
              "    </tr>\n",
              "    <tr>\n",
              "      <th>6</th>\n",
              "      <td>Homa Bay</td>\n",
              "      <td>0</td>\n",
              "    </tr>\n",
              "    <tr>\n",
              "      <th>7</th>\n",
              "      <td>Isiolo</td>\n",
              "      <td>0</td>\n",
              "    </tr>\n",
              "    <tr>\n",
              "      <th>8</th>\n",
              "      <td>Kajiado</td>\n",
              "      <td>0</td>\n",
              "    </tr>\n",
              "    <tr>\n",
              "      <th>9</th>\n",
              "      <td>Kakamega</td>\n",
              "      <td>9</td>\n",
              "    </tr>\n",
              "  </tbody>\n",
              "</table>\n",
              "</div>"
            ],
            "text/plain": [
              "  Number of Hospital ICU Beds per county  Unnamed: 3\n",
              "0                                Baringo           0\n",
              "1                                  Bomet           0\n",
              "2                                Bungoma          23\n",
              "3                                  Busia           0\n",
              "4                                   Embu           5\n",
              "5                                Garissa           6\n",
              "6                               Homa Bay           0\n",
              "7                                 Isiolo           0\n",
              "8                                Kajiado           0\n",
              "9                               Kakamega           9"
            ]
          },
          "execution_count": 77,
          "metadata": {},
          "output_type": "execute_result"
        }
      ],
      "source": [
        "# For the icubeds dataset, we shall also drop the first row\n",
        "icubeds.drop([0], inplace=True)\n",
        "icubeds.head()\n",
        " \n",
        "# We shall the group by county and sum number of icubeds\n",
        "icubeds = icubeds.groupby(['Number of Hospital ICU Beds per county'], as_index=False)[['Unnamed: 3']].sum()\n",
        "icubeds.head(10)\n"
      ]
    },
    {
      "cell_type": "code",
      "execution_count": 78,
      "metadata": {
        "id": "K9mlch2zcgCu"
      },
      "outputs": [],
      "source": [
        "# drop last column in healthworkers dataset\n",
        "healthworkers.drop([47], inplace=True)"
      ]
    },
    {
      "cell_type": "code",
      "execution_count": 79,
      "metadata": {
        "colab": {
          "base_uri": "https://localhost:8080/",
          "height": 298
        },
        "id": "fOGj2gYSP1SI",
        "outputId": "91b0c37d-391e-44bf-a413-baa67b0d47d9"
      },
      "outputs": [
        {
          "data": {
            "text/html": [
              "<div>\n",
              "<style scoped>\n",
              "    .dataframe tbody tr th:only-of-type {\n",
              "        vertical-align: middle;\n",
              "    }\n",
              "\n",
              "    .dataframe tbody tr th {\n",
              "        vertical-align: top;\n",
              "    }\n",
              "\n",
              "    .dataframe thead th {\n",
              "        text-align: right;\n",
              "    }\n",
              "</style>\n",
              "<table border=\"1\" class=\"dataframe\">\n",
              "  <thead>\n",
              "    <tr style=\"text-align: right;\">\n",
              "      <th></th>\n",
              "      <th>Facility Code</th>\n",
              "      <th>Facility Name</th>\n",
              "      <th>Province</th>\n",
              "      <th>County</th>\n",
              "      <th>District</th>\n",
              "      <th>Type</th>\n",
              "      <th>Owner</th>\n",
              "      <th>Constituency</th>\n",
              "      <th>Nearest Town</th>\n",
              "      <th>Beds</th>\n",
              "      <th>Cots</th>\n",
              "      <th>Open 24 Hours</th>\n",
              "      <th>Open Weekends</th>\n",
              "      <th>Operational Status</th>\n",
              "      <th>ART</th>\n",
              "      <th>C-IMCI</th>\n",
              "      <th>FP</th>\n",
              "      <th>HBC</th>\n",
              "      <th>IPD</th>\n",
              "      <th>Core health workforce per 10,000\\rpopulation</th>\n",
              "    </tr>\n",
              "  </thead>\n",
              "  <tbody>\n",
              "    <tr>\n",
              "      <th>0</th>\n",
              "      <td>19224</td>\n",
              "      <td>CDF Kiriari Dispensary</td>\n",
              "      <td>Eastern</td>\n",
              "      <td>embu</td>\n",
              "      <td>Manyatta</td>\n",
              "      <td>Dispensary</td>\n",
              "      <td>Ministry of Health</td>\n",
              "      <td>MANYATTA</td>\n",
              "      <td>Kiriari -market</td>\n",
              "      <td>0.0</td>\n",
              "      <td>0.0</td>\n",
              "      <td>NaN</td>\n",
              "      <td>NaN</td>\n",
              "      <td>Operational</td>\n",
              "      <td>NaN</td>\n",
              "      <td>NaN</td>\n",
              "      <td>NaN</td>\n",
              "      <td>NaN</td>\n",
              "      <td>NaN</td>\n",
              "      <td>21.2</td>\n",
              "    </tr>\n",
              "    <tr>\n",
              "      <th>1</th>\n",
              "      <td>19310</td>\n",
              "      <td>St Jude's Huruma Community Health Services</td>\n",
              "      <td>Nairobi</td>\n",
              "      <td>nairobi</td>\n",
              "      <td>Mathare</td>\n",
              "      <td>Medical Clinic</td>\n",
              "      <td>Private Practice - Unspecified</td>\n",
              "      <td>MATHARE</td>\n",
              "      <td>Kariobangi Market</td>\n",
              "      <td>0.0</td>\n",
              "      <td>0.0</td>\n",
              "      <td>N</td>\n",
              "      <td>Y</td>\n",
              "      <td>Operational</td>\n",
              "      <td>NaN</td>\n",
              "      <td>NaN</td>\n",
              "      <td>NaN</td>\n",
              "      <td>NaN</td>\n",
              "      <td>NaN</td>\n",
              "      <td>26.3</td>\n",
              "    </tr>\n",
              "  </tbody>\n",
              "</table>\n",
              "</div>"
            ],
            "text/plain": [
              "   Facility Code                                Facility Name Province  \\\n",
              "0          19224                       CDF Kiriari Dispensary  Eastern   \n",
              "1          19310   St Jude's Huruma Community Health Services  Nairobi   \n",
              "\n",
              "    County  District            Type                           Owner  \\\n",
              "0     embu  Manyatta      Dispensary              Ministry of Health   \n",
              "1  nairobi   Mathare  Medical Clinic  Private Practice - Unspecified   \n",
              "\n",
              "  Constituency       Nearest Town  Beds  Cots Open 24 Hours Open Weekends  \\\n",
              "0     MANYATTA    Kiriari -market   0.0   0.0           NaN           NaN   \n",
              "1      MATHARE  Kariobangi Market   0.0   0.0             N             Y   \n",
              "\n",
              "  Operational Status  ART C-IMCI   FP  HBC  IPD  \\\n",
              "0        Operational  NaN    NaN  NaN  NaN  NaN   \n",
              "1        Operational  NaN    NaN  NaN  NaN  NaN   \n",
              "\n",
              "   Core health workforce per 10,000\\rpopulation  \n",
              "0                                          21.2  \n",
              "1                                          26.3  "
            ]
          },
          "execution_count": 79,
          "metadata": {},
          "output_type": "execute_result"
        }
      ],
      "source": [
        "# make county columns uniform\n",
        "def combine_lower(value):\n",
        "  return value.lower().replace(' ','').replace('_','').replace('-','')\n",
        "\n",
        "hospitals['County'] = hospitals['County'].map(combine_lower)\n",
        "healthworkers['County'] = healthworkers['County'].map(combine_lower)\n",
        "population['County'] = population['County'].map(combine_lower)\n",
        "\n",
        "icubeds['Number of Hospital ICU Beds per county'] = icubeds['Number of Hospital ICU Beds per county'].map(combine_lower)\n",
        "# merge hospitals dataset with healthworkers dataset by county.\n",
        "hospitals_healthworkers = hospitals.merge(healthworkers, how= 'left', on = 'County')\n",
        "hospitals_healthworkers.head(2)\n"
      ]
    },
    {
      "cell_type": "code",
      "execution_count": 80,
      "metadata": {
        "colab": {
          "base_uri": "https://localhost:8080/",
          "height": 298
        },
        "id": "CDtalyxNRJfJ",
        "outputId": "5b75aa58-ee3c-47f4-d9aa-ffe0fc52cd3d"
      },
      "outputs": [
        {
          "data": {
            "text/html": [
              "<div>\n",
              "<style scoped>\n",
              "    .dataframe tbody tr th:only-of-type {\n",
              "        vertical-align: middle;\n",
              "    }\n",
              "\n",
              "    .dataframe tbody tr th {\n",
              "        vertical-align: top;\n",
              "    }\n",
              "\n",
              "    .dataframe thead th {\n",
              "        text-align: right;\n",
              "    }\n",
              "</style>\n",
              "<table border=\"1\" class=\"dataframe\">\n",
              "  <thead>\n",
              "    <tr style=\"text-align: right;\">\n",
              "      <th></th>\n",
              "      <th>Facility Code</th>\n",
              "      <th>Facility Name</th>\n",
              "      <th>Province</th>\n",
              "      <th>County</th>\n",
              "      <th>District</th>\n",
              "      <th>Type</th>\n",
              "      <th>Owner</th>\n",
              "      <th>Constituency</th>\n",
              "      <th>Nearest Town</th>\n",
              "      <th>Beds</th>\n",
              "      <th>...</th>\n",
              "      <th>Open 24 Hours</th>\n",
              "      <th>Open Weekends</th>\n",
              "      <th>Operational Status</th>\n",
              "      <th>ART</th>\n",
              "      <th>C-IMCI</th>\n",
              "      <th>FP</th>\n",
              "      <th>HBC</th>\n",
              "      <th>IPD</th>\n",
              "      <th>Core health workforce per 10,000\\rpopulation</th>\n",
              "      <th>Total_Population19</th>\n",
              "    </tr>\n",
              "  </thead>\n",
              "  <tbody>\n",
              "    <tr>\n",
              "      <th>0</th>\n",
              "      <td>19224</td>\n",
              "      <td>CDF Kiriari Dispensary</td>\n",
              "      <td>Eastern</td>\n",
              "      <td>embu</td>\n",
              "      <td>Manyatta</td>\n",
              "      <td>Dispensary</td>\n",
              "      <td>Ministry of Health</td>\n",
              "      <td>MANYATTA</td>\n",
              "      <td>Kiriari -market</td>\n",
              "      <td>0.0</td>\n",
              "      <td>...</td>\n",
              "      <td>NaN</td>\n",
              "      <td>NaN</td>\n",
              "      <td>Operational</td>\n",
              "      <td>NaN</td>\n",
              "      <td>NaN</td>\n",
              "      <td>NaN</td>\n",
              "      <td>NaN</td>\n",
              "      <td>NaN</td>\n",
              "      <td>21.2</td>\n",
              "      <td>608,599</td>\n",
              "    </tr>\n",
              "    <tr>\n",
              "      <th>1</th>\n",
              "      <td>19310</td>\n",
              "      <td>St Jude's Huruma Community Health Services</td>\n",
              "      <td>Nairobi</td>\n",
              "      <td>nairobi</td>\n",
              "      <td>Mathare</td>\n",
              "      <td>Medical Clinic</td>\n",
              "      <td>Private Practice - Unspecified</td>\n",
              "      <td>MATHARE</td>\n",
              "      <td>Kariobangi Market</td>\n",
              "      <td>0.0</td>\n",
              "      <td>...</td>\n",
              "      <td>N</td>\n",
              "      <td>Y</td>\n",
              "      <td>Operational</td>\n",
              "      <td>NaN</td>\n",
              "      <td>NaN</td>\n",
              "      <td>NaN</td>\n",
              "      <td>NaN</td>\n",
              "      <td>NaN</td>\n",
              "      <td>26.3</td>\n",
              "      <td>4,397,073</td>\n",
              "    </tr>\n",
              "  </tbody>\n",
              "</table>\n",
              "<p>2 rows × 21 columns</p>\n",
              "</div>"
            ],
            "text/plain": [
              "   Facility Code                                Facility Name Province  \\\n",
              "0          19224                       CDF Kiriari Dispensary  Eastern   \n",
              "1          19310   St Jude's Huruma Community Health Services  Nairobi   \n",
              "\n",
              "    County  District            Type                           Owner  \\\n",
              "0     embu  Manyatta      Dispensary              Ministry of Health   \n",
              "1  nairobi   Mathare  Medical Clinic  Private Practice - Unspecified   \n",
              "\n",
              "  Constituency       Nearest Town  Beds  ...  Open 24 Hours Open Weekends  \\\n",
              "0     MANYATTA    Kiriari -market   0.0  ...            NaN           NaN   \n",
              "1      MATHARE  Kariobangi Market   0.0  ...              N             Y   \n",
              "\n",
              "  Operational Status  ART C-IMCI   FP  HBC  IPD  \\\n",
              "0        Operational  NaN    NaN  NaN  NaN  NaN   \n",
              "1        Operational  NaN    NaN  NaN  NaN  NaN   \n",
              "\n",
              "  Core health workforce per 10,000\\rpopulation  Total_Population19  \n",
              "0                                         21.2            608,599   \n",
              "1                                         26.3          4,397,073   \n",
              "\n",
              "[2 rows x 21 columns]"
            ]
          },
          "execution_count": 80,
          "metadata": {},
          "output_type": "execute_result"
        }
      ],
      "source": [
        "# Let us now merge the hospitals_healthworkers dataset with population dataset\n",
        "hospitals_healthworkers_pop = hospitals_healthworkers.merge(population, how='left', on='County')\n",
        "hospitals_healthworkers_pop.head(2)"
      ]
    },
    {
      "cell_type": "code",
      "execution_count": 81,
      "metadata": {
        "id": "j-av-ZdPkXgv"
      },
      "outputs": [],
      "source": [
        "# Let us now merge the hospitals_healthcare_pop dataset with icubeds dataset\n",
        "hospitals = hospitals_healthworkers_pop.merge(icubeds, how='left', left_on='County', \n",
        "                                                          right_on='Number of Hospital ICU Beds per county')\n",
        "hospitals.head(2)\n",
        "hospitals.drop('Number of Hospital ICU Beds per county', axis=1, inplace=True)\n",
        "hospitals.rename(columns={'Unnamed: 3':'Number of Hospital ICU Beds per county'},inplace=True)"
      ]
    },
    {
      "cell_type": "code",
      "execution_count": 82,
      "metadata": {
        "colab": {
          "base_uri": "https://localhost:8080/"
        },
        "id": "tpNGxd2Ztnen",
        "outputId": "ce2c00f2-b3c2-4b77-c04e-cacdee1eb00f"
      },
      "outputs": [
        {
          "data": {
            "text/plain": [
              "Index(['Facility Code', 'Facility Name', 'Province', 'County', 'District',\n",
              "       'Type', 'Owner', 'Constituency', 'Nearest Town', 'Beds', 'Cots',\n",
              "       'Open 24 Hours', 'Open Weekends', 'Operational Status', 'ART', 'C-IMCI',\n",
              "       'FP', 'HBC', 'IPD', 'Core health workforce per 10,000\\rpopulation',\n",
              "       'Total_Population19', 'Number of Hospital ICU Beds per county'],\n",
              "      dtype='object')"
            ]
          },
          "execution_count": 82,
          "metadata": {},
          "output_type": "execute_result"
        }
      ],
      "source": [
        "# Display the columns of our dataset\n",
        "hospitals.columns"
      ]
    },
    {
      "cell_type": "code",
      "execution_count": 83,
      "metadata": {
        "colab": {
          "base_uri": "https://localhost:8080/",
          "height": 332
        },
        "id": "1RPoOm4ItM9p",
        "outputId": "77515c87-e7e8-4a4c-8f40-6c0f31bb9a4f"
      },
      "outputs": [
        {
          "data": {
            "text/html": [
              "<div>\n",
              "<style scoped>\n",
              "    .dataframe tbody tr th:only-of-type {\n",
              "        vertical-align: middle;\n",
              "    }\n",
              "\n",
              "    .dataframe tbody tr th {\n",
              "        vertical-align: top;\n",
              "    }\n",
              "\n",
              "    .dataframe thead th {\n",
              "        text-align: right;\n",
              "    }\n",
              "</style>\n",
              "<table border=\"1\" class=\"dataframe\">\n",
              "  <thead>\n",
              "    <tr style=\"text-align: right;\">\n",
              "      <th></th>\n",
              "      <th>Facility Code</th>\n",
              "      <th>Facility Name</th>\n",
              "      <th>Hospital Type</th>\n",
              "      <th>Owner</th>\n",
              "      <th>No of Beds</th>\n",
              "      <th>No of Cots</th>\n",
              "      <th>No of ICU beds</th>\n",
              "      <th>Open 24 Hours</th>\n",
              "      <th>Open Weekends</th>\n",
              "      <th>Operational Status</th>\n",
              "      <th>...</th>\n",
              "      <th>FP</th>\n",
              "      <th>HBC</th>\n",
              "      <th>IPD</th>\n",
              "      <th>Core health workforce per 10,000 population</th>\n",
              "      <th>Total Population</th>\n",
              "      <th>County</th>\n",
              "      <th>Province</th>\n",
              "      <th>District</th>\n",
              "      <th>Constituency</th>\n",
              "      <th>Nearest Town</th>\n",
              "    </tr>\n",
              "  </thead>\n",
              "  <tbody>\n",
              "    <tr>\n",
              "      <th>0</th>\n",
              "      <td>19224</td>\n",
              "      <td>CDF Kiriari Dispensary</td>\n",
              "      <td>Dispensary</td>\n",
              "      <td>Ministry of Health</td>\n",
              "      <td>0.0</td>\n",
              "      <td>0.0</td>\n",
              "      <td>5.0</td>\n",
              "      <td>NaN</td>\n",
              "      <td>NaN</td>\n",
              "      <td>Operational</td>\n",
              "      <td>...</td>\n",
              "      <td>NaN</td>\n",
              "      <td>NaN</td>\n",
              "      <td>NaN</td>\n",
              "      <td>21.2</td>\n",
              "      <td>608,599</td>\n",
              "      <td>embu</td>\n",
              "      <td>Eastern</td>\n",
              "      <td>Manyatta</td>\n",
              "      <td>MANYATTA</td>\n",
              "      <td>Kiriari -market</td>\n",
              "    </tr>\n",
              "    <tr>\n",
              "      <th>1</th>\n",
              "      <td>19310</td>\n",
              "      <td>St Jude's Huruma Community Health Services</td>\n",
              "      <td>Medical Clinic</td>\n",
              "      <td>Private Practice - Unspecified</td>\n",
              "      <td>0.0</td>\n",
              "      <td>0.0</td>\n",
              "      <td>258.0</td>\n",
              "      <td>N</td>\n",
              "      <td>Y</td>\n",
              "      <td>Operational</td>\n",
              "      <td>...</td>\n",
              "      <td>NaN</td>\n",
              "      <td>NaN</td>\n",
              "      <td>NaN</td>\n",
              "      <td>26.3</td>\n",
              "      <td>4,397,073</td>\n",
              "      <td>nairobi</td>\n",
              "      <td>Nairobi</td>\n",
              "      <td>Mathare</td>\n",
              "      <td>MATHARE</td>\n",
              "      <td>Kariobangi Market</td>\n",
              "    </tr>\n",
              "  </tbody>\n",
              "</table>\n",
              "<p>2 rows × 22 columns</p>\n",
              "</div>"
            ],
            "text/plain": [
              "   Facility Code                                Facility Name   Hospital Type  \\\n",
              "0          19224                       CDF Kiriari Dispensary      Dispensary   \n",
              "1          19310   St Jude's Huruma Community Health Services  Medical Clinic   \n",
              "\n",
              "                            Owner  No of Beds  No of Cots  No of ICU beds  \\\n",
              "0              Ministry of Health         0.0         0.0             5.0   \n",
              "1  Private Practice - Unspecified         0.0         0.0           258.0   \n",
              "\n",
              "  Open 24 Hours Open Weekends Operational Status  ...   FP  HBC  IPD  \\\n",
              "0           NaN           NaN        Operational  ...  NaN  NaN  NaN   \n",
              "1             N             Y        Operational  ...  NaN  NaN  NaN   \n",
              "\n",
              "  Core health workforce per 10,000 population Total Population   County  \\\n",
              "0                                        21.2         608,599      embu   \n",
              "1                                        26.3       4,397,073   nairobi   \n",
              "\n",
              "  Province  District Constituency       Nearest Town  \n",
              "0  Eastern  Manyatta     MANYATTA    Kiriari -market  \n",
              "1  Nairobi   Mathare      MATHARE  Kariobangi Market  \n",
              "\n",
              "[2 rows x 22 columns]"
            ]
          },
          "execution_count": 83,
          "metadata": {},
          "output_type": "execute_result"
        }
      ],
      "source": [
        "# We shall rename and rearrange our columns\n",
        "\n",
        "# Renaming our columns\n",
        "hospitals.columns = ['Facility Code', 'Facility Name', 'Province', 'County', 'District',\n",
        "       'Hospital Type', 'Owner', 'Constituency', 'Nearest Town', 'No of Beds', 'No of Cots', 'Open 24 Hours',\n",
        "      'Open Weekends', 'Operational Status', 'ART', 'C-IMCI', 'FP', 'HBC', 'IPD',\n",
        "       'Core health workforce per 10,000 population', 'Total Population', 'No of ICU beds']\n",
        "\n",
        "# Rearranging our columns\n",
        "hospitals = hospitals[['Facility Code', 'Facility Name', 'Hospital Type', 'Owner', \n",
        "                                               'No of Beds', 'No of Cots', 'No of ICU beds', 'Open 24 Hours',\n",
        "                                               'Open Weekends', 'Operational Status', 'ART', 'C-IMCI', 'FP', \n",
        "                                               'HBC', 'IPD', 'Core health workforce per 10,000 population', \n",
        "                                               'Total Population', 'County',  'Province',  'District', \n",
        "                                               'Constituency', 'Nearest Town']]\n",
        "hospitals.head(2)                                              "
      ]
    },
    {
      "cell_type": "code",
      "execution_count": 84,
      "metadata": {
        "colab": {
          "base_uri": "https://localhost:8080/"
        },
        "id": "sOzQN4Xyp7dH",
        "outputId": "695ecf82-c10f-4020-ca10-fa505b31782d"
      },
      "outputs": [
        {
          "name": "stdout",
          "output_type": "stream",
          "text": [
            "<class 'pandas.core.frame.DataFrame'>\n",
            "Int64Index: 10505 entries, 0 to 10504\n",
            "Data columns (total 22 columns):\n",
            " #   Column                                       Non-Null Count  Dtype  \n",
            "---  ------                                       --------------  -----  \n",
            " 0   Facility Code                                10505 non-null  int64  \n",
            " 1   Facility Name                                10505 non-null  object \n",
            " 2   Hospital Type                                10505 non-null  object \n",
            " 3   Owner                                        10505 non-null  object \n",
            " 4   No of Beds                                   10418 non-null  float64\n",
            " 5   No of Cots                                   10428 non-null  float64\n",
            " 6   No of ICU beds                               10275 non-null  float64\n",
            " 7   Open 24 Hours                                10058 non-null  object \n",
            " 8   Open Weekends                                10048 non-null  object \n",
            " 9   Operational Status                           10505 non-null  object \n",
            " 10  ART                                          921 non-null    object \n",
            " 11  C-IMCI                                       1177 non-null   object \n",
            " 12  FP                                           4288 non-null   object \n",
            " 13  HBC                                          2798 non-null   object \n",
            " 14  IPD                                          3943 non-null   object \n",
            " 15  Core health workforce per 10,000 population  10221 non-null  float64\n",
            " 16  Total Population                             10505 non-null  object \n",
            " 17  County                                       10505 non-null  object \n",
            " 18  Province                                     10505 non-null  object \n",
            " 19  District                                     10505 non-null  object \n",
            " 20  Constituency                                 10505 non-null  object \n",
            " 21  Nearest Town                                 9903 non-null   object \n",
            "dtypes: float64(4), int64(1), object(17)\n",
            "memory usage: 1.8+ MB\n"
          ]
        }
      ],
      "source": [
        "# Let's get information about our dataset\n",
        "hospitals.info()\n"
      ]
    },
    {
      "cell_type": "code",
      "execution_count": 85,
      "metadata": {
        "colab": {
          "base_uri": "https://localhost:8080/",
          "height": 396
        },
        "id": "rByw-Gr7s1uj",
        "outputId": "005a8cca-dfc5-4476-d79c-672b11c61103"
      },
      "outputs": [
        {
          "data": {
            "text/html": [
              "<div>\n",
              "<style scoped>\n",
              "    .dataframe tbody tr th:only-of-type {\n",
              "        vertical-align: middle;\n",
              "    }\n",
              "\n",
              "    .dataframe tbody tr th {\n",
              "        vertical-align: top;\n",
              "    }\n",
              "\n",
              "    .dataframe thead th {\n",
              "        text-align: right;\n",
              "    }\n",
              "</style>\n",
              "<table border=\"1\" class=\"dataframe\">\n",
              "  <thead>\n",
              "    <tr style=\"text-align: right;\">\n",
              "      <th></th>\n",
              "      <th>Facility Code</th>\n",
              "      <th>No of Beds</th>\n",
              "      <th>No of Cots</th>\n",
              "      <th>No of ICU beds</th>\n",
              "      <th>Core health workforce per 10,000 population</th>\n",
              "    </tr>\n",
              "  </thead>\n",
              "  <tbody>\n",
              "    <tr>\n",
              "      <th>count</th>\n",
              "      <td>10505.000000</td>\n",
              "      <td>10418.000000</td>\n",
              "      <td>10428.000000</td>\n",
              "      <td>10275.000000</td>\n",
              "      <td>10221.000000</td>\n",
              "    </tr>\n",
              "    <tr>\n",
              "      <th>mean</th>\n",
              "      <td>15726.711471</td>\n",
              "      <td>5.432905</td>\n",
              "      <td>0.744342</td>\n",
              "      <td>30.702579</td>\n",
              "      <td>17.068633</td>\n",
              "    </tr>\n",
              "    <tr>\n",
              "      <th>std</th>\n",
              "      <td>3246.324955</td>\n",
              "      <td>29.862656</td>\n",
              "      <td>11.332022</td>\n",
              "      <td>73.002651</td>\n",
              "      <td>7.154175</td>\n",
              "    </tr>\n",
              "    <tr>\n",
              "      <th>min</th>\n",
              "      <td>10001.000000</td>\n",
              "      <td>0.000000</td>\n",
              "      <td>0.000000</td>\n",
              "      <td>0.000000</td>\n",
              "      <td>5.200000</td>\n",
              "    </tr>\n",
              "    <tr>\n",
              "      <th>25%</th>\n",
              "      <td>12957.000000</td>\n",
              "      <td>0.000000</td>\n",
              "      <td>0.000000</td>\n",
              "      <td>0.000000</td>\n",
              "      <td>10.600000</td>\n",
              "    </tr>\n",
              "    <tr>\n",
              "      <th>50%</th>\n",
              "      <td>15702.000000</td>\n",
              "      <td>0.000000</td>\n",
              "      <td>0.000000</td>\n",
              "      <td>5.000000</td>\n",
              "      <td>16.200000</td>\n",
              "    </tr>\n",
              "    <tr>\n",
              "      <th>75%</th>\n",
              "      <td>18569.000000</td>\n",
              "      <td>1.000000</td>\n",
              "      <td>0.000000</td>\n",
              "      <td>19.000000</td>\n",
              "      <td>22.800000</td>\n",
              "    </tr>\n",
              "    <tr>\n",
              "      <th>max</th>\n",
              "      <td>21281.000000</td>\n",
              "      <td>1455.000000</td>\n",
              "      <td>1000.000000</td>\n",
              "      <td>258.000000</td>\n",
              "      <td>33.800000</td>\n",
              "    </tr>\n",
              "  </tbody>\n",
              "</table>\n",
              "</div>"
            ],
            "text/plain": [
              "       Facility Code    No of Beds    No of Cots  No of ICU beds  \\\n",
              "count   10505.000000  10418.000000  10428.000000    10275.000000   \n",
              "mean    15726.711471      5.432905      0.744342       30.702579   \n",
              "std      3246.324955     29.862656     11.332022       73.002651   \n",
              "min     10001.000000      0.000000      0.000000        0.000000   \n",
              "25%     12957.000000      0.000000      0.000000        0.000000   \n",
              "50%     15702.000000      0.000000      0.000000        5.000000   \n",
              "75%     18569.000000      1.000000      0.000000       19.000000   \n",
              "max     21281.000000   1455.000000   1000.000000      258.000000   \n",
              "\n",
              "       Core health workforce per 10,000 population  \n",
              "count                                 10221.000000  \n",
              "mean                                     17.068633  \n",
              "std                                       7.154175  \n",
              "min                                       5.200000  \n",
              "25%                                      10.600000  \n",
              "50%                                      16.200000  \n",
              "75%                                      22.800000  \n",
              "max                                      33.800000  "
            ]
          },
          "execution_count": 85,
          "metadata": {},
          "output_type": "execute_result"
        }
      ],
      "source": [
        "# Describing our dataset\n",
        "hospitals.describe()"
      ]
    },
    {
      "cell_type": "markdown",
      "metadata": {
        "id": "fRz2yRtHtJBX"
      },
      "source": [
        "# DATA CLEANING\n"
      ]
    },
    {
      "cell_type": "markdown",
      "metadata": {
        "id": "YI-ChDx9-FaN"
      },
      "source": [
        "## a.) Validity"
      ]
    },
    {
      "cell_type": "code",
      "execution_count": 86,
      "metadata": {
        "colab": {
          "base_uri": "https://localhost:8080/",
          "height": 531
        },
        "id": "Sp5DlSNsMeSB",
        "outputId": "fd2d4a5e-89ae-43a0-c5b9-9770427d9103"
      },
      "outputs": [
        {
          "data": {
            "text/html": [
              "<div>\n",
              "<style scoped>\n",
              "    .dataframe tbody tr th:only-of-type {\n",
              "        vertical-align: middle;\n",
              "    }\n",
              "\n",
              "    .dataframe tbody tr th {\n",
              "        vertical-align: top;\n",
              "    }\n",
              "\n",
              "    .dataframe thead th {\n",
              "        text-align: right;\n",
              "    }\n",
              "</style>\n",
              "<table border=\"1\" class=\"dataframe\">\n",
              "  <thead>\n",
              "    <tr style=\"text-align: right;\">\n",
              "      <th></th>\n",
              "      <th>Facility Code</th>\n",
              "      <th>Facility Name</th>\n",
              "      <th>Hospital Type</th>\n",
              "      <th>Owner</th>\n",
              "      <th>No of Beds</th>\n",
              "      <th>No of Cots</th>\n",
              "      <th>No of ICU beds</th>\n",
              "      <th>Open 24 Hours</th>\n",
              "      <th>Open Weekends</th>\n",
              "      <th>Operational Status</th>\n",
              "      <th>ART</th>\n",
              "      <th>C-IMCI</th>\n",
              "      <th>FP</th>\n",
              "      <th>HBC</th>\n",
              "      <th>IPD</th>\n",
              "      <th>Core health workforce per 10,000 population</th>\n",
              "      <th>Total Population</th>\n",
              "      <th>County</th>\n",
              "      <th>Constituency</th>\n",
              "      <th>Nearest Town</th>\n",
              "    </tr>\n",
              "  </thead>\n",
              "  <tbody>\n",
              "    <tr>\n",
              "      <th>0</th>\n",
              "      <td>19224</td>\n",
              "      <td>CDF Kiriari Dispensary</td>\n",
              "      <td>Dispensary</td>\n",
              "      <td>Ministry of Health</td>\n",
              "      <td>0.0</td>\n",
              "      <td>0.0</td>\n",
              "      <td>5.0</td>\n",
              "      <td>NaN</td>\n",
              "      <td>NaN</td>\n",
              "      <td>Operational</td>\n",
              "      <td>NaN</td>\n",
              "      <td>NaN</td>\n",
              "      <td>NaN</td>\n",
              "      <td>NaN</td>\n",
              "      <td>NaN</td>\n",
              "      <td>21.2</td>\n",
              "      <td>608,599</td>\n",
              "      <td>embu</td>\n",
              "      <td>MANYATTA</td>\n",
              "      <td>Kiriari -market</td>\n",
              "    </tr>\n",
              "    <tr>\n",
              "      <th>1</th>\n",
              "      <td>19310</td>\n",
              "      <td>St Jude's Huruma Community Health Services</td>\n",
              "      <td>Medical Clinic</td>\n",
              "      <td>Private Practice - Unspecified</td>\n",
              "      <td>0.0</td>\n",
              "      <td>0.0</td>\n",
              "      <td>258.0</td>\n",
              "      <td>N</td>\n",
              "      <td>Y</td>\n",
              "      <td>Operational</td>\n",
              "      <td>NaN</td>\n",
              "      <td>NaN</td>\n",
              "      <td>NaN</td>\n",
              "      <td>NaN</td>\n",
              "      <td>NaN</td>\n",
              "      <td>26.3</td>\n",
              "      <td>4,397,073</td>\n",
              "      <td>nairobi</td>\n",
              "      <td>MATHARE</td>\n",
              "      <td>Kariobangi Market</td>\n",
              "    </tr>\n",
              "    <tr>\n",
              "      <th>2</th>\n",
              "      <td>14180</td>\n",
              "      <td>10 Engineer VCT</td>\n",
              "      <td>Dispensary</td>\n",
              "      <td>Armed Forces</td>\n",
              "      <td>0.0</td>\n",
              "      <td>0.0</td>\n",
              "      <td>0.0</td>\n",
              "      <td>N</td>\n",
              "      <td>N</td>\n",
              "      <td>Operational</td>\n",
              "      <td>Y</td>\n",
              "      <td>NaN</td>\n",
              "      <td>Y</td>\n",
              "      <td>Y</td>\n",
              "      <td>NaN</td>\n",
              "      <td>16.5</td>\n",
              "      <td>518,580</td>\n",
              "      <td>laikipia</td>\n",
              "      <td>LAIKIPIA EAST</td>\n",
              "      <td>Nanyuki</td>\n",
              "    </tr>\n",
              "    <tr>\n",
              "      <th>3</th>\n",
              "      <td>17486</td>\n",
              "      <td>12 Engineers</td>\n",
              "      <td>Dispensary</td>\n",
              "      <td>Ministry of Health</td>\n",
              "      <td>0.0</td>\n",
              "      <td>0.0</td>\n",
              "      <td>19.0</td>\n",
              "      <td>N</td>\n",
              "      <td>N</td>\n",
              "      <td>Operational</td>\n",
              "      <td>NaN</td>\n",
              "      <td>NaN</td>\n",
              "      <td>NaN</td>\n",
              "      <td>NaN</td>\n",
              "      <td>NaN</td>\n",
              "      <td>22.8</td>\n",
              "      <td>2,417,735</td>\n",
              "      <td>kiambu</td>\n",
              "      <td>JUJA</td>\n",
              "      <td>NaN</td>\n",
              "    </tr>\n",
              "    <tr>\n",
              "      <th>4</th>\n",
              "      <td>18393</td>\n",
              "      <td>3Kl Maternity &amp; Nursing Home</td>\n",
              "      <td>Nursing Home</td>\n",
              "      <td>Private Practice - Clinical Officer</td>\n",
              "      <td>7.0</td>\n",
              "      <td>0.0</td>\n",
              "      <td>0.0</td>\n",
              "      <td>Y</td>\n",
              "      <td>Y</td>\n",
              "      <td>Operational</td>\n",
              "      <td>NaN</td>\n",
              "      <td>NaN</td>\n",
              "      <td>NaN</td>\n",
              "      <td>NaN</td>\n",
              "      <td>NaN</td>\n",
              "      <td>24.6</td>\n",
              "      <td>1,117,840</td>\n",
              "      <td>kajiado</td>\n",
              "      <td>KAJIADO NORTH</td>\n",
              "      <td>Ongata Ronga</td>\n",
              "    </tr>\n",
              "  </tbody>\n",
              "</table>\n",
              "</div>"
            ],
            "text/plain": [
              "   Facility Code                                Facility Name   Hospital Type  \\\n",
              "0          19224                       CDF Kiriari Dispensary      Dispensary   \n",
              "1          19310   St Jude's Huruma Community Health Services  Medical Clinic   \n",
              "2          14180                              10 Engineer VCT      Dispensary   \n",
              "3          17486                                 12 Engineers      Dispensary   \n",
              "4          18393                 3Kl Maternity & Nursing Home    Nursing Home   \n",
              "\n",
              "                                 Owner  No of Beds  No of Cots  \\\n",
              "0                   Ministry of Health         0.0         0.0   \n",
              "1       Private Practice - Unspecified         0.0         0.0   \n",
              "2                         Armed Forces         0.0         0.0   \n",
              "3                   Ministry of Health         0.0         0.0   \n",
              "4  Private Practice - Clinical Officer         7.0         0.0   \n",
              "\n",
              "   No of ICU beds Open 24 Hours Open Weekends Operational Status  ART C-IMCI  \\\n",
              "0             5.0           NaN           NaN        Operational  NaN    NaN   \n",
              "1           258.0             N             Y        Operational  NaN    NaN   \n",
              "2             0.0             N             N        Operational    Y    NaN   \n",
              "3            19.0             N             N        Operational  NaN    NaN   \n",
              "4             0.0             Y             Y        Operational  NaN    NaN   \n",
              "\n",
              "    FP  HBC  IPD  Core health workforce per 10,000 population  \\\n",
              "0  NaN  NaN  NaN                                         21.2   \n",
              "1  NaN  NaN  NaN                                         26.3   \n",
              "2    Y    Y  NaN                                         16.5   \n",
              "3  NaN  NaN  NaN                                         22.8   \n",
              "4  NaN  NaN  NaN                                         24.6   \n",
              "\n",
              "  Total Population    County   Constituency       Nearest Town  \n",
              "0         608,599       embu       MANYATTA    Kiriari -market  \n",
              "1       4,397,073    nairobi        MATHARE  Kariobangi Market  \n",
              "2         518,580   laikipia  LAIKIPIA EAST            Nanyuki  \n",
              "3       2,417,735     kiambu           JUJA                NaN  \n",
              "4       1,117,840    kajiado  KAJIADO NORTH       Ongata Ronga  "
            ]
          },
          "execution_count": 86,
          "metadata": {},
          "output_type": "execute_result"
        }
      ],
      "source": [
        "#Procedure 1: Irrelevant data\n",
        "# Data cleaning action: Drop columns \n",
        "# Explanation: Not required\n",
        "\n",
        "columns = ['District','Province']\n",
        "drop_columns(hospitals, columns)"
      ]
    },
    {
      "cell_type": "code",
      "execution_count": 87,
      "metadata": {
        "colab": {
          "base_uri": "https://localhost:8080/",
          "height": 896
        },
        "id": "ldMq2cCjNgM9",
        "outputId": "92337590-939c-4d88-b143-3af40b2da08c"
      },
      "outputs": [
        {
          "data": {
            "text/html": [
              "<div>\n",
              "<style scoped>\n",
              "    .dataframe tbody tr th:only-of-type {\n",
              "        vertical-align: middle;\n",
              "    }\n",
              "\n",
              "    .dataframe tbody tr th {\n",
              "        vertical-align: top;\n",
              "    }\n",
              "\n",
              "    .dataframe thead th {\n",
              "        text-align: right;\n",
              "    }\n",
              "</style>\n",
              "<table border=\"1\" class=\"dataframe\">\n",
              "  <thead>\n",
              "    <tr style=\"text-align: right;\">\n",
              "      <th></th>\n",
              "      <th>Facility Code</th>\n",
              "      <th>Facility Name</th>\n",
              "      <th>Hospital Type</th>\n",
              "      <th>Owner</th>\n",
              "      <th>No of Beds</th>\n",
              "      <th>No of Cots</th>\n",
              "      <th>No of ICU beds</th>\n",
              "      <th>Open 24 Hours</th>\n",
              "      <th>Open Weekends</th>\n",
              "      <th>Operational Status</th>\n",
              "      <th>ART</th>\n",
              "      <th>C-IMCI</th>\n",
              "      <th>FP</th>\n",
              "      <th>HBC</th>\n",
              "      <th>IPD</th>\n",
              "      <th>Core health workforce per 10,000 population</th>\n",
              "      <th>Total Population</th>\n",
              "      <th>County</th>\n",
              "      <th>Constituency</th>\n",
              "      <th>Nearest Town</th>\n",
              "    </tr>\n",
              "  </thead>\n",
              "  <tbody>\n",
              "    <tr>\n",
              "      <th>0</th>\n",
              "      <td>19224</td>\n",
              "      <td>CDF Kiriari Dispensary</td>\n",
              "      <td>Dispensary</td>\n",
              "      <td>Ministry of Health</td>\n",
              "      <td>0.0</td>\n",
              "      <td>0.0</td>\n",
              "      <td>5.0</td>\n",
              "      <td>NaN</td>\n",
              "      <td>NaN</td>\n",
              "      <td>Operational</td>\n",
              "      <td>NaN</td>\n",
              "      <td>NaN</td>\n",
              "      <td>NaN</td>\n",
              "      <td>NaN</td>\n",
              "      <td>NaN</td>\n",
              "      <td>21.2</td>\n",
              "      <td>608,599</td>\n",
              "      <td>embu</td>\n",
              "      <td>MANYATTA</td>\n",
              "      <td>Kiriari -market</td>\n",
              "    </tr>\n",
              "    <tr>\n",
              "      <th>1</th>\n",
              "      <td>19310</td>\n",
              "      <td>St Jude's Huruma Community Health Services</td>\n",
              "      <td>Medical Clinic</td>\n",
              "      <td>Private Practice - Unspecified</td>\n",
              "      <td>0.0</td>\n",
              "      <td>0.0</td>\n",
              "      <td>258.0</td>\n",
              "      <td>N</td>\n",
              "      <td>Y</td>\n",
              "      <td>Operational</td>\n",
              "      <td>NaN</td>\n",
              "      <td>NaN</td>\n",
              "      <td>NaN</td>\n",
              "      <td>NaN</td>\n",
              "      <td>NaN</td>\n",
              "      <td>26.3</td>\n",
              "      <td>4,397,073</td>\n",
              "      <td>nairobi</td>\n",
              "      <td>MATHARE</td>\n",
              "      <td>Kariobangi Market</td>\n",
              "    </tr>\n",
              "    <tr>\n",
              "      <th>2</th>\n",
              "      <td>14180</td>\n",
              "      <td>10 Engineer VCT</td>\n",
              "      <td>Dispensary</td>\n",
              "      <td>Armed Forces</td>\n",
              "      <td>0.0</td>\n",
              "      <td>0.0</td>\n",
              "      <td>0.0</td>\n",
              "      <td>N</td>\n",
              "      <td>N</td>\n",
              "      <td>Operational</td>\n",
              "      <td>Y</td>\n",
              "      <td>NaN</td>\n",
              "      <td>Y</td>\n",
              "      <td>Y</td>\n",
              "      <td>NaN</td>\n",
              "      <td>16.5</td>\n",
              "      <td>518,580</td>\n",
              "      <td>laikipia</td>\n",
              "      <td>LAIKIPIA EAST</td>\n",
              "      <td>Nanyuki</td>\n",
              "    </tr>\n",
              "    <tr>\n",
              "      <th>3</th>\n",
              "      <td>17486</td>\n",
              "      <td>12 Engineers</td>\n",
              "      <td>Dispensary</td>\n",
              "      <td>Ministry of Health</td>\n",
              "      <td>0.0</td>\n",
              "      <td>0.0</td>\n",
              "      <td>19.0</td>\n",
              "      <td>N</td>\n",
              "      <td>N</td>\n",
              "      <td>Operational</td>\n",
              "      <td>NaN</td>\n",
              "      <td>NaN</td>\n",
              "      <td>NaN</td>\n",
              "      <td>NaN</td>\n",
              "      <td>NaN</td>\n",
              "      <td>22.8</td>\n",
              "      <td>2,417,735</td>\n",
              "      <td>kiambu</td>\n",
              "      <td>JUJA</td>\n",
              "      <td>NaN</td>\n",
              "    </tr>\n",
              "    <tr>\n",
              "      <th>4</th>\n",
              "      <td>18393</td>\n",
              "      <td>3Kl Maternity &amp; Nursing Home</td>\n",
              "      <td>Nursing Home</td>\n",
              "      <td>Private Practice - Clinical Officer</td>\n",
              "      <td>7.0</td>\n",
              "      <td>0.0</td>\n",
              "      <td>0.0</td>\n",
              "      <td>Y</td>\n",
              "      <td>Y</td>\n",
              "      <td>Operational</td>\n",
              "      <td>NaN</td>\n",
              "      <td>NaN</td>\n",
              "      <td>NaN</td>\n",
              "      <td>NaN</td>\n",
              "      <td>NaN</td>\n",
              "      <td>24.6</td>\n",
              "      <td>1,117,840</td>\n",
              "      <td>kajiado</td>\n",
              "      <td>KAJIADO NORTH</td>\n",
              "      <td>Ongata Ronga</td>\n",
              "    </tr>\n",
              "    <tr>\n",
              "      <th>5</th>\n",
              "      <td>14181</td>\n",
              "      <td>3KR Health Centre</td>\n",
              "      <td>Health Centre</td>\n",
              "      <td>Armed Forces</td>\n",
              "      <td>20.0</td>\n",
              "      <td>12.0</td>\n",
              "      <td>19.0</td>\n",
              "      <td>Y</td>\n",
              "      <td>Y</td>\n",
              "      <td>Operational</td>\n",
              "      <td>Y</td>\n",
              "      <td>Y</td>\n",
              "      <td>Y</td>\n",
              "      <td>Y</td>\n",
              "      <td>Y</td>\n",
              "      <td>19.3</td>\n",
              "      <td>2,162,202</td>\n",
              "      <td>nakuru</td>\n",
              "      <td>NAKURU TOWN</td>\n",
              "      <td>Nakuru Town</td>\n",
              "    </tr>\n",
              "    <tr>\n",
              "      <th>6</th>\n",
              "      <td>11917</td>\n",
              "      <td>78 Tank Battalion Dispensary</td>\n",
              "      <td>Dispensary</td>\n",
              "      <td>Armed Forces</td>\n",
              "      <td>7.0</td>\n",
              "      <td>2.0</td>\n",
              "      <td>0.0</td>\n",
              "      <td>Y</td>\n",
              "      <td>Y</td>\n",
              "      <td>Operational</td>\n",
              "      <td>NaN</td>\n",
              "      <td>NaN</td>\n",
              "      <td>Y</td>\n",
              "      <td>Y</td>\n",
              "      <td>Y</td>\n",
              "      <td>22.0</td>\n",
              "      <td>268,002</td>\n",
              "      <td>isiolo</td>\n",
              "      <td>ISIOLO NORTH</td>\n",
              "      <td>Isiolo</td>\n",
              "    </tr>\n",
              "    <tr>\n",
              "      <th>7</th>\n",
              "      <td>13043</td>\n",
              "      <td>7Kr Mrs Health Centre</td>\n",
              "      <td>Health Centre</td>\n",
              "      <td>Armed Forces</td>\n",
              "      <td>14.0</td>\n",
              "      <td>0.0</td>\n",
              "      <td>258.0</td>\n",
              "      <td>Y</td>\n",
              "      <td>Y</td>\n",
              "      <td>Operational</td>\n",
              "      <td>NaN</td>\n",
              "      <td>Y</td>\n",
              "      <td>Y</td>\n",
              "      <td>Y</td>\n",
              "      <td>Y</td>\n",
              "      <td>26.3</td>\n",
              "      <td>4,397,073</td>\n",
              "      <td>nairobi</td>\n",
              "      <td>LANG'ATA</td>\n",
              "      <td>Lang'ata Shopping Center</td>\n",
              "    </tr>\n",
              "    <tr>\n",
              "      <th>8</th>\n",
              "      <td>14182</td>\n",
              "      <td>8Th Street Clinic</td>\n",
              "      <td>Medical Clinic</td>\n",
              "      <td>Private Enterprise (Institution)</td>\n",
              "      <td>0.0</td>\n",
              "      <td>0.0</td>\n",
              "      <td>0.0</td>\n",
              "      <td>N</td>\n",
              "      <td>Y</td>\n",
              "      <td>Operational</td>\n",
              "      <td>NaN</td>\n",
              "      <td>NaN</td>\n",
              "      <td>NaN</td>\n",
              "      <td>NaN</td>\n",
              "      <td>NaN</td>\n",
              "      <td>24.6</td>\n",
              "      <td>1,117,840</td>\n",
              "      <td>kajiado</td>\n",
              "      <td>KAJIADO NORTH</td>\n",
              "      <td>Isinya</td>\n",
              "    </tr>\n",
              "    <tr>\n",
              "      <th>9</th>\n",
              "      <td>18137</td>\n",
              "      <td>A To Z Quality Health Family Health Services</td>\n",
              "      <td>Medical Clinic</td>\n",
              "      <td>Private Practice - Nurse / Midwife</td>\n",
              "      <td>0.0</td>\n",
              "      <td>0.0</td>\n",
              "      <td>19.0</td>\n",
              "      <td>N</td>\n",
              "      <td>Y</td>\n",
              "      <td>Operational</td>\n",
              "      <td>NaN</td>\n",
              "      <td>NaN</td>\n",
              "      <td>NaN</td>\n",
              "      <td>NaN</td>\n",
              "      <td>NaN</td>\n",
              "      <td>19.3</td>\n",
              "      <td>2,162,202</td>\n",
              "      <td>nakuru</td>\n",
              "      <td>MOLO</td>\n",
              "      <td>Njoro Centre</td>\n",
              "    </tr>\n",
              "  </tbody>\n",
              "</table>\n",
              "</div>"
            ],
            "text/plain": [
              "   Facility Code                                 Facility Name  \\\n",
              "0          19224                        CDF Kiriari Dispensary   \n",
              "1          19310    St Jude's Huruma Community Health Services   \n",
              "2          14180                               10 Engineer VCT   \n",
              "3          17486                                  12 Engineers   \n",
              "4          18393                  3Kl Maternity & Nursing Home   \n",
              "5          14181                             3KR Health Centre   \n",
              "6          11917                  78 Tank Battalion Dispensary   \n",
              "7          13043                         7Kr Mrs Health Centre   \n",
              "8          14182                             8Th Street Clinic   \n",
              "9          18137  A To Z Quality Health Family Health Services   \n",
              "\n",
              "    Hospital Type                                Owner  No of Beds  \\\n",
              "0      Dispensary                   Ministry of Health         0.0   \n",
              "1  Medical Clinic       Private Practice - Unspecified         0.0   \n",
              "2      Dispensary                         Armed Forces         0.0   \n",
              "3      Dispensary                   Ministry of Health         0.0   \n",
              "4    Nursing Home  Private Practice - Clinical Officer         7.0   \n",
              "5   Health Centre                         Armed Forces        20.0   \n",
              "6      Dispensary                         Armed Forces         7.0   \n",
              "7   Health Centre                         Armed Forces        14.0   \n",
              "8  Medical Clinic     Private Enterprise (Institution)         0.0   \n",
              "9  Medical Clinic   Private Practice - Nurse / Midwife         0.0   \n",
              "\n",
              "   No of Cots  No of ICU beds Open 24 Hours Open Weekends Operational Status  \\\n",
              "0         0.0             5.0           NaN           NaN        Operational   \n",
              "1         0.0           258.0             N             Y        Operational   \n",
              "2         0.0             0.0             N             N        Operational   \n",
              "3         0.0            19.0             N             N        Operational   \n",
              "4         0.0             0.0             Y             Y        Operational   \n",
              "5        12.0            19.0             Y             Y        Operational   \n",
              "6         2.0             0.0             Y             Y        Operational   \n",
              "7         0.0           258.0             Y             Y        Operational   \n",
              "8         0.0             0.0             N             Y        Operational   \n",
              "9         0.0            19.0             N             Y        Operational   \n",
              "\n",
              "   ART C-IMCI   FP  HBC  IPD  Core health workforce per 10,000 population  \\\n",
              "0  NaN    NaN  NaN  NaN  NaN                                         21.2   \n",
              "1  NaN    NaN  NaN  NaN  NaN                                         26.3   \n",
              "2    Y    NaN    Y    Y  NaN                                         16.5   \n",
              "3  NaN    NaN  NaN  NaN  NaN                                         22.8   \n",
              "4  NaN    NaN  NaN  NaN  NaN                                         24.6   \n",
              "5    Y      Y    Y    Y    Y                                         19.3   \n",
              "6  NaN    NaN    Y    Y    Y                                         22.0   \n",
              "7  NaN      Y    Y    Y    Y                                         26.3   \n",
              "8  NaN    NaN  NaN  NaN  NaN                                         24.6   \n",
              "9  NaN    NaN  NaN  NaN  NaN                                         19.3   \n",
              "\n",
              "  Total Population    County   Constituency              Nearest Town  \n",
              "0         608,599       embu       MANYATTA           Kiriari -market  \n",
              "1       4,397,073    nairobi        MATHARE         Kariobangi Market  \n",
              "2         518,580   laikipia  LAIKIPIA EAST                   Nanyuki  \n",
              "3       2,417,735     kiambu           JUJA                       NaN  \n",
              "4       1,117,840    kajiado  KAJIADO NORTH              Ongata Ronga  \n",
              "5       2,162,202     nakuru    NAKURU TOWN               Nakuru Town  \n",
              "6         268,002     isiolo   ISIOLO NORTH                    Isiolo  \n",
              "7       4,397,073    nairobi       LANG'ATA  Lang'ata Shopping Center  \n",
              "8       1,117,840    kajiado  KAJIADO NORTH                    Isinya  \n",
              "9       2,162,202     nakuru           MOLO              Njoro Centre  "
            ]
          },
          "execution_count": 87,
          "metadata": {},
          "output_type": "execute_result"
        }
      ],
      "source": [
        "#Procedure 1:\n",
        "# Data cleaning action: Check whitespaces\n",
        "# Explanation:\n",
        "hospitals['Facility Name'] = hospitals['Facility Name'].str.strip()\n",
        "hospitals['County'] = hospitals['County'].str.strip()\n",
        "hospitals['Hospital Type'] = hospitals['Hospital Type'].str.strip()\n",
        "hospitals['Owner'] = hospitals['Owner'].str.strip()\n",
        "hospitals['Operational Status'] = hospitals['Operational Status'].str.strip()\n",
        "hospitals['Nearest Town'] = hospitals['Nearest Town'].str.strip()\n",
        "hospitals.head(10)"
      ]
    },
    {
      "cell_type": "markdown",
      "metadata": {
        "id": "CCENrO2m-J-o"
      },
      "source": [
        "## b.) Accuracy"
      ]
    },
    {
      "cell_type": "code",
      "execution_count": null,
      "metadata": {
        "id": "xvsPN1xHQOrU"
      },
      "outputs": [],
      "source": []
    },
    {
      "cell_type": "markdown",
      "metadata": {
        "id": "lOCUourk-SBq"
      },
      "source": [
        "## c.) Completness"
      ]
    },
    {
      "cell_type": "code",
      "execution_count": 88,
      "metadata": {
        "colab": {
          "base_uri": "https://localhost:8080/"
        },
        "id": "-mzKFoESQqVx",
        "outputId": "726b10cb-560f-459f-e0c3-473b0d039356"
      },
      "outputs": [
        {
          "data": {
            "text/plain": [
              "Facility Code                                     0\n",
              "Facility Name                                     0\n",
              "Hospital Type                                     0\n",
              "Owner                                             0\n",
              "No of Beds                                       87\n",
              "No of Cots                                       77\n",
              "No of ICU beds                                  230\n",
              "Open 24 Hours                                   447\n",
              "Open Weekends                                   457\n",
              "Operational Status                                0\n",
              "ART                                            9584\n",
              "C-IMCI                                         9328\n",
              "FP                                             6217\n",
              "HBC                                            7707\n",
              "IPD                                            6562\n",
              "Core health workforce per 10,000 population     284\n",
              "Total Population                                  0\n",
              "County                                            0\n",
              "Constituency                                      0\n",
              "Nearest Town                                    602\n",
              "dtype: int64"
            ]
          },
          "execution_count": 88,
          "metadata": {},
          "output_type": "execute_result"
        }
      ],
      "source": [
        "# Check null values\n",
        "hospitals.isnull().sum()"
      ]
    },
    {
      "cell_type": "code",
      "execution_count": 89,
      "metadata": {
        "colab": {
          "base_uri": "https://localhost:8080/",
          "height": 896
        },
        "id": "ZsRPvnEfRYd9",
        "outputId": "146dc663-fcfb-4495-eee3-c77e670ed033"
      },
      "outputs": [
        {
          "data": {
            "text/html": [
              "<div>\n",
              "<style scoped>\n",
              "    .dataframe tbody tr th:only-of-type {\n",
              "        vertical-align: middle;\n",
              "    }\n",
              "\n",
              "    .dataframe tbody tr th {\n",
              "        vertical-align: top;\n",
              "    }\n",
              "\n",
              "    .dataframe thead th {\n",
              "        text-align: right;\n",
              "    }\n",
              "</style>\n",
              "<table border=\"1\" class=\"dataframe\">\n",
              "  <thead>\n",
              "    <tr style=\"text-align: right;\">\n",
              "      <th></th>\n",
              "      <th>Facility Code</th>\n",
              "      <th>Facility Name</th>\n",
              "      <th>Hospital Type</th>\n",
              "      <th>Owner</th>\n",
              "      <th>No of Beds</th>\n",
              "      <th>No of Cots</th>\n",
              "      <th>No of ICU beds</th>\n",
              "      <th>Open 24 Hours</th>\n",
              "      <th>Open Weekends</th>\n",
              "      <th>Operational Status</th>\n",
              "      <th>ART</th>\n",
              "      <th>C-IMCI</th>\n",
              "      <th>FP</th>\n",
              "      <th>HBC</th>\n",
              "      <th>IPD</th>\n",
              "      <th>Core health workforce per 10,000 population</th>\n",
              "      <th>Total Population</th>\n",
              "      <th>County</th>\n",
              "      <th>Constituency</th>\n",
              "      <th>Nearest Town</th>\n",
              "    </tr>\n",
              "  </thead>\n",
              "  <tbody>\n",
              "    <tr>\n",
              "      <th>0</th>\n",
              "      <td>19224</td>\n",
              "      <td>CDF Kiriari Dispensary</td>\n",
              "      <td>Dispensary</td>\n",
              "      <td>Ministry of Health</td>\n",
              "      <td>0.0</td>\n",
              "      <td>0.0</td>\n",
              "      <td>5.0</td>\n",
              "      <td>N</td>\n",
              "      <td>N</td>\n",
              "      <td>Operational</td>\n",
              "      <td>N</td>\n",
              "      <td>N</td>\n",
              "      <td>N</td>\n",
              "      <td>N</td>\n",
              "      <td>N</td>\n",
              "      <td>21.2</td>\n",
              "      <td>608,599</td>\n",
              "      <td>embu</td>\n",
              "      <td>MANYATTA</td>\n",
              "      <td>Kiriari -market</td>\n",
              "    </tr>\n",
              "    <tr>\n",
              "      <th>1</th>\n",
              "      <td>19310</td>\n",
              "      <td>St Jude's Huruma Community Health Services</td>\n",
              "      <td>Medical Clinic</td>\n",
              "      <td>Private Practice - Unspecified</td>\n",
              "      <td>0.0</td>\n",
              "      <td>0.0</td>\n",
              "      <td>258.0</td>\n",
              "      <td>N</td>\n",
              "      <td>Y</td>\n",
              "      <td>Operational</td>\n",
              "      <td>N</td>\n",
              "      <td>N</td>\n",
              "      <td>N</td>\n",
              "      <td>N</td>\n",
              "      <td>N</td>\n",
              "      <td>26.3</td>\n",
              "      <td>4,397,073</td>\n",
              "      <td>nairobi</td>\n",
              "      <td>MATHARE</td>\n",
              "      <td>Kariobangi Market</td>\n",
              "    </tr>\n",
              "    <tr>\n",
              "      <th>2</th>\n",
              "      <td>14180</td>\n",
              "      <td>10 Engineer VCT</td>\n",
              "      <td>Dispensary</td>\n",
              "      <td>Armed Forces</td>\n",
              "      <td>0.0</td>\n",
              "      <td>0.0</td>\n",
              "      <td>0.0</td>\n",
              "      <td>N</td>\n",
              "      <td>N</td>\n",
              "      <td>Operational</td>\n",
              "      <td>Y</td>\n",
              "      <td>N</td>\n",
              "      <td>Y</td>\n",
              "      <td>Y</td>\n",
              "      <td>N</td>\n",
              "      <td>16.5</td>\n",
              "      <td>518,580</td>\n",
              "      <td>laikipia</td>\n",
              "      <td>LAIKIPIA EAST</td>\n",
              "      <td>Nanyuki</td>\n",
              "    </tr>\n",
              "    <tr>\n",
              "      <th>3</th>\n",
              "      <td>17486</td>\n",
              "      <td>12 Engineers</td>\n",
              "      <td>Dispensary</td>\n",
              "      <td>Ministry of Health</td>\n",
              "      <td>0.0</td>\n",
              "      <td>0.0</td>\n",
              "      <td>19.0</td>\n",
              "      <td>N</td>\n",
              "      <td>N</td>\n",
              "      <td>Operational</td>\n",
              "      <td>N</td>\n",
              "      <td>N</td>\n",
              "      <td>N</td>\n",
              "      <td>N</td>\n",
              "      <td>N</td>\n",
              "      <td>22.8</td>\n",
              "      <td>2,417,735</td>\n",
              "      <td>kiambu</td>\n",
              "      <td>JUJA</td>\n",
              "      <td>NaN</td>\n",
              "    </tr>\n",
              "    <tr>\n",
              "      <th>4</th>\n",
              "      <td>18393</td>\n",
              "      <td>3Kl Maternity &amp; Nursing Home</td>\n",
              "      <td>Nursing Home</td>\n",
              "      <td>Private Practice - Clinical Officer</td>\n",
              "      <td>7.0</td>\n",
              "      <td>0.0</td>\n",
              "      <td>0.0</td>\n",
              "      <td>Y</td>\n",
              "      <td>Y</td>\n",
              "      <td>Operational</td>\n",
              "      <td>N</td>\n",
              "      <td>N</td>\n",
              "      <td>N</td>\n",
              "      <td>N</td>\n",
              "      <td>N</td>\n",
              "      <td>24.6</td>\n",
              "      <td>1,117,840</td>\n",
              "      <td>kajiado</td>\n",
              "      <td>KAJIADO NORTH</td>\n",
              "      <td>Ongata Ronga</td>\n",
              "    </tr>\n",
              "    <tr>\n",
              "      <th>5</th>\n",
              "      <td>14181</td>\n",
              "      <td>3KR Health Centre</td>\n",
              "      <td>Health Centre</td>\n",
              "      <td>Armed Forces</td>\n",
              "      <td>20.0</td>\n",
              "      <td>12.0</td>\n",
              "      <td>19.0</td>\n",
              "      <td>Y</td>\n",
              "      <td>Y</td>\n",
              "      <td>Operational</td>\n",
              "      <td>Y</td>\n",
              "      <td>Y</td>\n",
              "      <td>Y</td>\n",
              "      <td>Y</td>\n",
              "      <td>Y</td>\n",
              "      <td>19.3</td>\n",
              "      <td>2,162,202</td>\n",
              "      <td>nakuru</td>\n",
              "      <td>NAKURU TOWN</td>\n",
              "      <td>Nakuru Town</td>\n",
              "    </tr>\n",
              "    <tr>\n",
              "      <th>6</th>\n",
              "      <td>11917</td>\n",
              "      <td>78 Tank Battalion Dispensary</td>\n",
              "      <td>Dispensary</td>\n",
              "      <td>Armed Forces</td>\n",
              "      <td>7.0</td>\n",
              "      <td>2.0</td>\n",
              "      <td>0.0</td>\n",
              "      <td>Y</td>\n",
              "      <td>Y</td>\n",
              "      <td>Operational</td>\n",
              "      <td>N</td>\n",
              "      <td>N</td>\n",
              "      <td>Y</td>\n",
              "      <td>Y</td>\n",
              "      <td>Y</td>\n",
              "      <td>22.0</td>\n",
              "      <td>268,002</td>\n",
              "      <td>isiolo</td>\n",
              "      <td>ISIOLO NORTH</td>\n",
              "      <td>Isiolo</td>\n",
              "    </tr>\n",
              "    <tr>\n",
              "      <th>7</th>\n",
              "      <td>13043</td>\n",
              "      <td>7Kr Mrs Health Centre</td>\n",
              "      <td>Health Centre</td>\n",
              "      <td>Armed Forces</td>\n",
              "      <td>14.0</td>\n",
              "      <td>0.0</td>\n",
              "      <td>258.0</td>\n",
              "      <td>Y</td>\n",
              "      <td>Y</td>\n",
              "      <td>Operational</td>\n",
              "      <td>N</td>\n",
              "      <td>Y</td>\n",
              "      <td>Y</td>\n",
              "      <td>Y</td>\n",
              "      <td>Y</td>\n",
              "      <td>26.3</td>\n",
              "      <td>4,397,073</td>\n",
              "      <td>nairobi</td>\n",
              "      <td>LANG'ATA</td>\n",
              "      <td>Lang'ata Shopping Center</td>\n",
              "    </tr>\n",
              "    <tr>\n",
              "      <th>8</th>\n",
              "      <td>14182</td>\n",
              "      <td>8Th Street Clinic</td>\n",
              "      <td>Medical Clinic</td>\n",
              "      <td>Private Enterprise (Institution)</td>\n",
              "      <td>0.0</td>\n",
              "      <td>0.0</td>\n",
              "      <td>0.0</td>\n",
              "      <td>N</td>\n",
              "      <td>Y</td>\n",
              "      <td>Operational</td>\n",
              "      <td>N</td>\n",
              "      <td>N</td>\n",
              "      <td>N</td>\n",
              "      <td>N</td>\n",
              "      <td>N</td>\n",
              "      <td>24.6</td>\n",
              "      <td>1,117,840</td>\n",
              "      <td>kajiado</td>\n",
              "      <td>KAJIADO NORTH</td>\n",
              "      <td>Isinya</td>\n",
              "    </tr>\n",
              "    <tr>\n",
              "      <th>9</th>\n",
              "      <td>18137</td>\n",
              "      <td>A To Z Quality Health Family Health Services</td>\n",
              "      <td>Medical Clinic</td>\n",
              "      <td>Private Practice - Nurse / Midwife</td>\n",
              "      <td>0.0</td>\n",
              "      <td>0.0</td>\n",
              "      <td>19.0</td>\n",
              "      <td>N</td>\n",
              "      <td>Y</td>\n",
              "      <td>Operational</td>\n",
              "      <td>N</td>\n",
              "      <td>N</td>\n",
              "      <td>N</td>\n",
              "      <td>N</td>\n",
              "      <td>N</td>\n",
              "      <td>19.3</td>\n",
              "      <td>2,162,202</td>\n",
              "      <td>nakuru</td>\n",
              "      <td>MOLO</td>\n",
              "      <td>Njoro Centre</td>\n",
              "    </tr>\n",
              "  </tbody>\n",
              "</table>\n",
              "</div>"
            ],
            "text/plain": [
              "   Facility Code                                 Facility Name  \\\n",
              "0          19224                        CDF Kiriari Dispensary   \n",
              "1          19310    St Jude's Huruma Community Health Services   \n",
              "2          14180                               10 Engineer VCT   \n",
              "3          17486                                  12 Engineers   \n",
              "4          18393                  3Kl Maternity & Nursing Home   \n",
              "5          14181                             3KR Health Centre   \n",
              "6          11917                  78 Tank Battalion Dispensary   \n",
              "7          13043                         7Kr Mrs Health Centre   \n",
              "8          14182                             8Th Street Clinic   \n",
              "9          18137  A To Z Quality Health Family Health Services   \n",
              "\n",
              "    Hospital Type                                Owner  No of Beds  \\\n",
              "0      Dispensary                   Ministry of Health         0.0   \n",
              "1  Medical Clinic       Private Practice - Unspecified         0.0   \n",
              "2      Dispensary                         Armed Forces         0.0   \n",
              "3      Dispensary                   Ministry of Health         0.0   \n",
              "4    Nursing Home  Private Practice - Clinical Officer         7.0   \n",
              "5   Health Centre                         Armed Forces        20.0   \n",
              "6      Dispensary                         Armed Forces         7.0   \n",
              "7   Health Centre                         Armed Forces        14.0   \n",
              "8  Medical Clinic     Private Enterprise (Institution)         0.0   \n",
              "9  Medical Clinic   Private Practice - Nurse / Midwife         0.0   \n",
              "\n",
              "   No of Cots  No of ICU beds Open 24 Hours Open Weekends Operational Status  \\\n",
              "0         0.0             5.0             N             N        Operational   \n",
              "1         0.0           258.0             N             Y        Operational   \n",
              "2         0.0             0.0             N             N        Operational   \n",
              "3         0.0            19.0             N             N        Operational   \n",
              "4         0.0             0.0             Y             Y        Operational   \n",
              "5        12.0            19.0             Y             Y        Operational   \n",
              "6         2.0             0.0             Y             Y        Operational   \n",
              "7         0.0           258.0             Y             Y        Operational   \n",
              "8         0.0             0.0             N             Y        Operational   \n",
              "9         0.0            19.0             N             Y        Operational   \n",
              "\n",
              "  ART C-IMCI FP HBC IPD  Core health workforce per 10,000 population  \\\n",
              "0   N      N  N   N   N                                         21.2   \n",
              "1   N      N  N   N   N                                         26.3   \n",
              "2   Y      N  Y   Y   N                                         16.5   \n",
              "3   N      N  N   N   N                                         22.8   \n",
              "4   N      N  N   N   N                                         24.6   \n",
              "5   Y      Y  Y   Y   Y                                         19.3   \n",
              "6   N      N  Y   Y   Y                                         22.0   \n",
              "7   N      Y  Y   Y   Y                                         26.3   \n",
              "8   N      N  N   N   N                                         24.6   \n",
              "9   N      N  N   N   N                                         19.3   \n",
              "\n",
              "  Total Population    County   Constituency              Nearest Town  \n",
              "0         608,599       embu       MANYATTA           Kiriari -market  \n",
              "1       4,397,073    nairobi        MATHARE         Kariobangi Market  \n",
              "2         518,580   laikipia  LAIKIPIA EAST                   Nanyuki  \n",
              "3       2,417,735     kiambu           JUJA                       NaN  \n",
              "4       1,117,840    kajiado  KAJIADO NORTH              Ongata Ronga  \n",
              "5       2,162,202     nakuru    NAKURU TOWN               Nakuru Town  \n",
              "6         268,002     isiolo   ISIOLO NORTH                    Isiolo  \n",
              "7       4,397,073    nairobi       LANG'ATA  Lang'ata Shopping Center  \n",
              "8       1,117,840    kajiado  KAJIADO NORTH                    Isinya  \n",
              "9       2,162,202     nakuru           MOLO              Njoro Centre  "
            ]
          },
          "execution_count": 89,
          "metadata": {},
          "output_type": "execute_result"
        }
      ],
      "source": [
        "# We assume that hospitals with null values of open 24hrs and open weekends are not opened on these hours and days respectively.\n",
        "# Replace 'NaN' with 'N' for No\n",
        "\n",
        "def fillna_N(dataframe, column):\n",
        "  dataframe[column] = dataframe[column].fillna('N')\n",
        "  return dataframe\n",
        "\n",
        "columns = ['Open 24 Hours', 'Open Weekends', 'ART', 'C-IMCI', 'FP', 'HBC', 'IPD' ]\n",
        "fillna_N(hospitals, columns)\n",
        "\n",
        "\n",
        "hospitals.head(10)"
      ]
    },
    {
      "cell_type": "code",
      "execution_count": 90,
      "metadata": {
        "colab": {
          "base_uri": "https://localhost:8080/",
          "height": 939
        },
        "id": "sb-fqrBHWaee",
        "outputId": "fce7704d-3969-453f-b951-e81e3a130368"
      },
      "outputs": [
        {
          "data": {
            "text/html": [
              "<div>\n",
              "<style scoped>\n",
              "    .dataframe tbody tr th:only-of-type {\n",
              "        vertical-align: middle;\n",
              "    }\n",
              "\n",
              "    .dataframe tbody tr th {\n",
              "        vertical-align: top;\n",
              "    }\n",
              "\n",
              "    .dataframe thead th {\n",
              "        text-align: right;\n",
              "    }\n",
              "</style>\n",
              "<table border=\"1\" class=\"dataframe\">\n",
              "  <thead>\n",
              "    <tr style=\"text-align: right;\">\n",
              "      <th></th>\n",
              "      <th>Facility Code</th>\n",
              "      <th>Facility Name</th>\n",
              "      <th>Hospital Type</th>\n",
              "      <th>Owner</th>\n",
              "      <th>No of Beds</th>\n",
              "      <th>No of Cots</th>\n",
              "      <th>No of ICU beds</th>\n",
              "      <th>Open 24 Hours</th>\n",
              "      <th>Open Weekends</th>\n",
              "      <th>Operational Status</th>\n",
              "      <th>ART</th>\n",
              "      <th>C-IMCI</th>\n",
              "      <th>FP</th>\n",
              "      <th>HBC</th>\n",
              "      <th>IPD</th>\n",
              "      <th>Core health workforce per 10,000 population</th>\n",
              "      <th>Total Population</th>\n",
              "      <th>County</th>\n",
              "      <th>Constituency</th>\n",
              "      <th>Nearest Town</th>\n",
              "    </tr>\n",
              "  </thead>\n",
              "  <tbody>\n",
              "    <tr>\n",
              "      <th>0</th>\n",
              "      <td>19224</td>\n",
              "      <td>CDF Kiriari Dispensary</td>\n",
              "      <td>Dispensary</td>\n",
              "      <td>Ministry of Health</td>\n",
              "      <td>0.0</td>\n",
              "      <td>0.0</td>\n",
              "      <td>5.0</td>\n",
              "      <td>N</td>\n",
              "      <td>N</td>\n",
              "      <td>Operational</td>\n",
              "      <td>N</td>\n",
              "      <td>N</td>\n",
              "      <td>N</td>\n",
              "      <td>N</td>\n",
              "      <td>N</td>\n",
              "      <td>21.2</td>\n",
              "      <td>608,599</td>\n",
              "      <td>embu</td>\n",
              "      <td>MANYATTA</td>\n",
              "      <td>Kiriari -market</td>\n",
              "    </tr>\n",
              "    <tr>\n",
              "      <th>1</th>\n",
              "      <td>19310</td>\n",
              "      <td>St Jude's Huruma Community Health Services</td>\n",
              "      <td>Medical Clinic</td>\n",
              "      <td>Private Practice - Unspecified</td>\n",
              "      <td>0.0</td>\n",
              "      <td>0.0</td>\n",
              "      <td>258.0</td>\n",
              "      <td>N</td>\n",
              "      <td>Y</td>\n",
              "      <td>Operational</td>\n",
              "      <td>N</td>\n",
              "      <td>N</td>\n",
              "      <td>N</td>\n",
              "      <td>N</td>\n",
              "      <td>N</td>\n",
              "      <td>26.3</td>\n",
              "      <td>4,397,073</td>\n",
              "      <td>nairobi</td>\n",
              "      <td>MATHARE</td>\n",
              "      <td>Kariobangi Market</td>\n",
              "    </tr>\n",
              "    <tr>\n",
              "      <th>2</th>\n",
              "      <td>14180</td>\n",
              "      <td>10 Engineer VCT</td>\n",
              "      <td>Dispensary</td>\n",
              "      <td>Armed Forces</td>\n",
              "      <td>0.0</td>\n",
              "      <td>0.0</td>\n",
              "      <td>0.0</td>\n",
              "      <td>N</td>\n",
              "      <td>N</td>\n",
              "      <td>Operational</td>\n",
              "      <td>Y</td>\n",
              "      <td>N</td>\n",
              "      <td>Y</td>\n",
              "      <td>Y</td>\n",
              "      <td>N</td>\n",
              "      <td>16.5</td>\n",
              "      <td>518,580</td>\n",
              "      <td>laikipia</td>\n",
              "      <td>LAIKIPIA EAST</td>\n",
              "      <td>Nanyuki</td>\n",
              "    </tr>\n",
              "    <tr>\n",
              "      <th>3</th>\n",
              "      <td>17486</td>\n",
              "      <td>12 Engineers</td>\n",
              "      <td>Dispensary</td>\n",
              "      <td>Ministry of Health</td>\n",
              "      <td>0.0</td>\n",
              "      <td>0.0</td>\n",
              "      <td>19.0</td>\n",
              "      <td>N</td>\n",
              "      <td>N</td>\n",
              "      <td>Operational</td>\n",
              "      <td>N</td>\n",
              "      <td>N</td>\n",
              "      <td>N</td>\n",
              "      <td>N</td>\n",
              "      <td>N</td>\n",
              "      <td>22.8</td>\n",
              "      <td>2,417,735</td>\n",
              "      <td>kiambu</td>\n",
              "      <td>JUJA</td>\n",
              "      <td>0</td>\n",
              "    </tr>\n",
              "    <tr>\n",
              "      <th>4</th>\n",
              "      <td>18393</td>\n",
              "      <td>3Kl Maternity &amp; Nursing Home</td>\n",
              "      <td>Nursing Home</td>\n",
              "      <td>Private Practice - Clinical Officer</td>\n",
              "      <td>7.0</td>\n",
              "      <td>0.0</td>\n",
              "      <td>0.0</td>\n",
              "      <td>Y</td>\n",
              "      <td>Y</td>\n",
              "      <td>Operational</td>\n",
              "      <td>N</td>\n",
              "      <td>N</td>\n",
              "      <td>N</td>\n",
              "      <td>N</td>\n",
              "      <td>N</td>\n",
              "      <td>24.6</td>\n",
              "      <td>1,117,840</td>\n",
              "      <td>kajiado</td>\n",
              "      <td>KAJIADO NORTH</td>\n",
              "      <td>Ongata Ronga</td>\n",
              "    </tr>\n",
              "    <tr>\n",
              "      <th>...</th>\n",
              "      <td>...</td>\n",
              "      <td>...</td>\n",
              "      <td>...</td>\n",
              "      <td>...</td>\n",
              "      <td>...</td>\n",
              "      <td>...</td>\n",
              "      <td>...</td>\n",
              "      <td>...</td>\n",
              "      <td>...</td>\n",
              "      <td>...</td>\n",
              "      <td>...</td>\n",
              "      <td>...</td>\n",
              "      <td>...</td>\n",
              "      <td>...</td>\n",
              "      <td>...</td>\n",
              "      <td>...</td>\n",
              "      <td>...</td>\n",
              "      <td>...</td>\n",
              "      <td>...</td>\n",
              "      <td>...</td>\n",
              "    </tr>\n",
              "    <tr>\n",
              "      <th>10500</th>\n",
              "      <td>17220</td>\n",
              "      <td>Ziwa SDA</td>\n",
              "      <td>Dispensary</td>\n",
              "      <td>Christian Health Association of Kenya</td>\n",
              "      <td>0.0</td>\n",
              "      <td>0.0</td>\n",
              "      <td>55.0</td>\n",
              "      <td>N</td>\n",
              "      <td>N</td>\n",
              "      <td>Operational</td>\n",
              "      <td>N</td>\n",
              "      <td>N</td>\n",
              "      <td>N</td>\n",
              "      <td>N</td>\n",
              "      <td>N</td>\n",
              "      <td>28.2</td>\n",
              "      <td>1,163,186</td>\n",
              "      <td>uasingishu</td>\n",
              "      <td>ELDORET NORTH</td>\n",
              "      <td>Ziwa</td>\n",
              "    </tr>\n",
              "    <tr>\n",
              "      <th>10501</th>\n",
              "      <td>15788</td>\n",
              "      <td>Ziwa Sub-District Hospital</td>\n",
              "      <td>Sub-District Hospital</td>\n",
              "      <td>Ministry of Health</td>\n",
              "      <td>20.0</td>\n",
              "      <td>4.0</td>\n",
              "      <td>55.0</td>\n",
              "      <td>N</td>\n",
              "      <td>N</td>\n",
              "      <td>Operational</td>\n",
              "      <td>N</td>\n",
              "      <td>N</td>\n",
              "      <td>Y</td>\n",
              "      <td>N</td>\n",
              "      <td>Y</td>\n",
              "      <td>28.2</td>\n",
              "      <td>1,163,186</td>\n",
              "      <td>uasingishu</td>\n",
              "      <td>ELDORET NORTH</td>\n",
              "      <td>Eldoret</td>\n",
              "    </tr>\n",
              "    <tr>\n",
              "      <th>10502</th>\n",
              "      <td>11915</td>\n",
              "      <td>Ziwani Dispensary</td>\n",
              "      <td>Dispensary</td>\n",
              "      <td>Private Enterprise (Institution)</td>\n",
              "      <td>0.0</td>\n",
              "      <td>0.0</td>\n",
              "      <td>0.0</td>\n",
              "      <td>N</td>\n",
              "      <td>N</td>\n",
              "      <td>Operational</td>\n",
              "      <td>N</td>\n",
              "      <td>N</td>\n",
              "      <td>Y</td>\n",
              "      <td>Y</td>\n",
              "      <td>Y</td>\n",
              "      <td>19.1</td>\n",
              "      <td>340,671</td>\n",
              "      <td>taitataveta</td>\n",
              "      <td>TAVETA</td>\n",
              "      <td>Challa</td>\n",
              "    </tr>\n",
              "    <tr>\n",
              "      <th>10503</th>\n",
              "      <td>16997</td>\n",
              "      <td>Zombe Catholic Dispensary</td>\n",
              "      <td>Dispensary</td>\n",
              "      <td>Kenya Episcopal Conference-Catholic Secretariat</td>\n",
              "      <td>0.0</td>\n",
              "      <td>0.0</td>\n",
              "      <td>0.0</td>\n",
              "      <td>N</td>\n",
              "      <td>N</td>\n",
              "      <td>Operational</td>\n",
              "      <td>N</td>\n",
              "      <td>N</td>\n",
              "      <td>N</td>\n",
              "      <td>N</td>\n",
              "      <td>N</td>\n",
              "      <td>14.9</td>\n",
              "      <td>1,136,187</td>\n",
              "      <td>kitui</td>\n",
              "      <td>MUTITO</td>\n",
              "      <td>Zombe</td>\n",
              "    </tr>\n",
              "    <tr>\n",
              "      <th>10504</th>\n",
              "      <td>20313</td>\n",
              "      <td>Zombe medical clinic</td>\n",
              "      <td>Medical Clinic</td>\n",
              "      <td>Private Practice - Clinical Officer</td>\n",
              "      <td>1.0</td>\n",
              "      <td>0.0</td>\n",
              "      <td>0.0</td>\n",
              "      <td>Y</td>\n",
              "      <td>Y</td>\n",
              "      <td>Operational</td>\n",
              "      <td>N</td>\n",
              "      <td>N</td>\n",
              "      <td>N</td>\n",
              "      <td>N</td>\n",
              "      <td>N</td>\n",
              "      <td>14.9</td>\n",
              "      <td>1,136,187</td>\n",
              "      <td>kitui</td>\n",
              "      <td>MUTITO</td>\n",
              "      <td>zombe town</td>\n",
              "    </tr>\n",
              "  </tbody>\n",
              "</table>\n",
              "<p>10505 rows × 20 columns</p>\n",
              "</div>"
            ],
            "text/plain": [
              "       Facility Code                               Facility Name  \\\n",
              "0              19224                      CDF Kiriari Dispensary   \n",
              "1              19310  St Jude's Huruma Community Health Services   \n",
              "2              14180                             10 Engineer VCT   \n",
              "3              17486                                12 Engineers   \n",
              "4              18393                3Kl Maternity & Nursing Home   \n",
              "...              ...                                         ...   \n",
              "10500          17220                                    Ziwa SDA   \n",
              "10501          15788                  Ziwa Sub-District Hospital   \n",
              "10502          11915                           Ziwani Dispensary   \n",
              "10503          16997                   Zombe Catholic Dispensary   \n",
              "10504          20313                        Zombe medical clinic   \n",
              "\n",
              "               Hospital Type                                            Owner  \\\n",
              "0                 Dispensary                               Ministry of Health   \n",
              "1             Medical Clinic                   Private Practice - Unspecified   \n",
              "2                 Dispensary                                     Armed Forces   \n",
              "3                 Dispensary                               Ministry of Health   \n",
              "4               Nursing Home              Private Practice - Clinical Officer   \n",
              "...                      ...                                              ...   \n",
              "10500             Dispensary            Christian Health Association of Kenya   \n",
              "10501  Sub-District Hospital                               Ministry of Health   \n",
              "10502             Dispensary                 Private Enterprise (Institution)   \n",
              "10503             Dispensary  Kenya Episcopal Conference-Catholic Secretariat   \n",
              "10504         Medical Clinic              Private Practice - Clinical Officer   \n",
              "\n",
              "      No of Beds No of Cots No of ICU beds Open 24 Hours Open Weekends  \\\n",
              "0            0.0        0.0            5.0             N             N   \n",
              "1            0.0        0.0          258.0             N             Y   \n",
              "2            0.0        0.0            0.0             N             N   \n",
              "3            0.0        0.0           19.0             N             N   \n",
              "4            7.0        0.0            0.0             Y             Y   \n",
              "...          ...        ...            ...           ...           ...   \n",
              "10500        0.0        0.0           55.0             N             N   \n",
              "10501       20.0        4.0           55.0             N             N   \n",
              "10502        0.0        0.0            0.0             N             N   \n",
              "10503        0.0        0.0            0.0             N             N   \n",
              "10504        1.0        0.0            0.0             Y             Y   \n",
              "\n",
              "      Operational Status ART C-IMCI FP HBC IPD  \\\n",
              "0            Operational   N      N  N   N   N   \n",
              "1            Operational   N      N  N   N   N   \n",
              "2            Operational   Y      N  Y   Y   N   \n",
              "3            Operational   N      N  N   N   N   \n",
              "4            Operational   N      N  N   N   N   \n",
              "...                  ...  ..    ... ..  ..  ..   \n",
              "10500        Operational   N      N  N   N   N   \n",
              "10501        Operational   N      N  Y   N   Y   \n",
              "10502        Operational   N      N  Y   Y   Y   \n",
              "10503        Operational   N      N  N   N   N   \n",
              "10504        Operational   N      N  N   N   N   \n",
              "\n",
              "       Core health workforce per 10,000 population Total Population  \\\n",
              "0                                             21.2         608,599    \n",
              "1                                             26.3       4,397,073    \n",
              "2                                             16.5         518,580    \n",
              "3                                             22.8       2,417,735    \n",
              "4                                             24.6       1,117,840    \n",
              "...                                            ...              ...   \n",
              "10500                                         28.2       1,163,186    \n",
              "10501                                         28.2       1,163,186    \n",
              "10502                                         19.1         340,671    \n",
              "10503                                         14.9       1,136,187    \n",
              "10504                                         14.9       1,136,187    \n",
              "\n",
              "            County   Constituency       Nearest Town  \n",
              "0             embu       MANYATTA    Kiriari -market  \n",
              "1          nairobi        MATHARE  Kariobangi Market  \n",
              "2         laikipia  LAIKIPIA EAST            Nanyuki  \n",
              "3           kiambu           JUJA                  0  \n",
              "4          kajiado  KAJIADO NORTH       Ongata Ronga  \n",
              "...            ...            ...                ...  \n",
              "10500   uasingishu  ELDORET NORTH               Ziwa  \n",
              "10501   uasingishu  ELDORET NORTH            Eldoret  \n",
              "10502  taitataveta         TAVETA             Challa  \n",
              "10503        kitui         MUTITO              Zombe  \n",
              "10504        kitui         MUTITO         zombe town  \n",
              "\n",
              "[10505 rows x 20 columns]"
            ]
          },
          "execution_count": 90,
          "metadata": {},
          "output_type": "execute_result"
        }
      ],
      "source": [
        "# Hospitals with missing values of beds and cots are likely to not have these resources\n",
        "# Fill missing values with 0\n",
        "def fillna_0(dataframe, column):\n",
        "  dataframe[column] = dataframe[column].fillna('0')\n",
        "  return dataframe\n",
        "\n",
        "columns = ['No of Beds', 'No of Cots', 'Nearest Town', 'No of ICU beds']  \n",
        "fillna_0(hospitals, columns)\n"
      ]
    },
    {
      "cell_type": "code",
      "execution_count": 91,
      "metadata": {
        "id": "XJJpGlJTPnmQ"
      },
      "outputs": [],
      "source": [
        "# Fill 'Core health workforce per 10,000 population' null values with the mean\n",
        "hospitals['Core health workforce per 10,000 population'].fillna(hospitals['Core health workforce per 10,000 population'].mean(), inplace=True)\n",
        "\n"
      ]
    },
    {
      "cell_type": "code",
      "execution_count": 92,
      "metadata": {
        "colab": {
          "base_uri": "https://localhost:8080/"
        },
        "id": "UVDWOo75Xk3z",
        "outputId": "cc9f514d-e3cb-4d0f-862f-74697cfb3620"
      },
      "outputs": [
        {
          "data": {
            "text/plain": [
              "Facility Code                                  False\n",
              "Facility Name                                  False\n",
              "Hospital Type                                  False\n",
              "Owner                                          False\n",
              "No of Beds                                     False\n",
              "No of Cots                                     False\n",
              "No of ICU beds                                 False\n",
              "Open 24 Hours                                  False\n",
              "Open Weekends                                  False\n",
              "Operational Status                             False\n",
              "ART                                            False\n",
              "C-IMCI                                         False\n",
              "FP                                             False\n",
              "HBC                                            False\n",
              "IPD                                            False\n",
              "Core health workforce per 10,000 population    False\n",
              "Total Population                               False\n",
              "County                                         False\n",
              "Constituency                                   False\n",
              "Nearest Town                                   False\n",
              "dtype: bool"
            ]
          },
          "execution_count": 92,
          "metadata": {},
          "output_type": "execute_result"
        }
      ],
      "source": [
        "hospitals.isnull().any()"
      ]
    },
    {
      "cell_type": "markdown",
      "metadata": {
        "id": "9HsW_SP_-WFe"
      },
      "source": [
        "## d.) Consistency"
      ]
    },
    {
      "cell_type": "code",
      "execution_count": 93,
      "metadata": {
        "colab": {
          "base_uri": "https://localhost:8080/"
        },
        "id": "r1RTtU6rXwH-",
        "outputId": "c5299dd9-56c7-42b7-9159-0839340da250"
      },
      "outputs": [
        {
          "data": {
            "text/plain": [
              "0"
            ]
          },
          "execution_count": 93,
          "metadata": {},
          "output_type": "execute_result"
        }
      ],
      "source": [
        "# Check duplicates\n",
        "hospitals.duplicated().sum()"
      ]
    },
    {
      "cell_type": "markdown",
      "metadata": {
        "id": "kd0UwZXB-oAk"
      },
      "source": [
        "## e.) Uniformity"
      ]
    },
    {
      "cell_type": "code",
      "execution_count": 94,
      "metadata": {
        "colab": {
          "base_uri": "https://localhost:8080/"
        },
        "id": "3R6aFue_-ZWN",
        "outputId": "3d6c011c-dcca-46a4-c5f7-13dff1dff312"
      },
      "outputs": [
        {
          "name": "stderr",
          "output_type": "stream",
          "text": [
            "/tmp/ipykernel_20982/4209783079.py:1: FutureWarning: The default value of regex will change from True to False in a future version. In addition, single character regular expressions will *not* be treated as literal strings when regex=True.\n",
            "  hospitals.columns = hospitals.columns.str.strip().str.lower().str.replace(' ', '_').str.replace('(', '').str.replace(')', '').str.replace('  ','   ')\n"
          ]
        }
      ],
      "source": [
        "hospitals.columns = hospitals.columns.str.strip().str.lower().str.replace(' ', '_').str.replace('(', '').str.replace(')', '').str.replace('  ','   ')\n",
        "#hospitals.columns = hospitals.columns.str.lower().str.replace(' ', '_')\n",
        "hospitals.head()\n",
        "\n",
        "#combine compound county names\n",
        "def combine(column):\n",
        "  return column.replace(' ','')\n",
        "\n",
        "hospitals['county'] =  hospitals['county'].map(combine) \n"
      ]
    },
    {
      "cell_type": "code",
      "execution_count": 95,
      "metadata": {
        "colab": {
          "base_uri": "https://localhost:8080/"
        },
        "id": "3FopLvYzZE7L",
        "outputId": "d8d3ea53-3656-431c-d603-46599460af3a"
      },
      "outputs": [
        {
          "name": "stdout",
          "output_type": "stream",
          "text": [
            "<class 'pandas.core.frame.DataFrame'>\n",
            "Int64Index: 10505 entries, 0 to 10504\n",
            "Data columns (total 20 columns):\n",
            " #   Column                                       Non-Null Count  Dtype  \n",
            "---  ------                                       --------------  -----  \n",
            " 0   facility_code                                10505 non-null  int64  \n",
            " 1   facility_name                                10505 non-null  object \n",
            " 2   hospital_type                                10505 non-null  object \n",
            " 3   owner                                        10505 non-null  object \n",
            " 4   no_of_beds                                   10505 non-null  object \n",
            " 5   no_of_cots                                   10505 non-null  object \n",
            " 6   no_of_icu_beds                               10505 non-null  object \n",
            " 7   open_24_hours                                10505 non-null  object \n",
            " 8   open_weekends                                10505 non-null  object \n",
            " 9   operational_status                           10505 non-null  object \n",
            " 10  art                                          10505 non-null  object \n",
            " 11  c-imci                                       10505 non-null  object \n",
            " 12  fp                                           10505 non-null  object \n",
            " 13  hbc                                          10505 non-null  object \n",
            " 14  ipd                                          10505 non-null  object \n",
            " 15  core_health_workforce_per_10,000_population  10505 non-null  float64\n",
            " 16  total_population                             10505 non-null  object \n",
            " 17  county                                       10505 non-null  object \n",
            " 18  constituency                                 10505 non-null  object \n",
            " 19  nearest_town                                 10505 non-null  object \n",
            "dtypes: float64(1), int64(1), object(18)\n",
            "memory usage: 1.7+ MB\n"
          ]
        }
      ],
      "source": [
        "hospitals.info()"
      ]
    },
    {
      "cell_type": "code",
      "execution_count": 96,
      "metadata": {
        "colab": {
          "base_uri": "https://localhost:8080/",
          "height": 427
        },
        "id": "Q8-0gkX62EOX",
        "outputId": "1713d7d7-9138-40dd-d646-b9075052b7b3"
      },
      "outputs": [
        {
          "data": {
            "text/html": [
              "<div>\n",
              "<style scoped>\n",
              "    .dataframe tbody tr th:only-of-type {\n",
              "        vertical-align: middle;\n",
              "    }\n",
              "\n",
              "    .dataframe tbody tr th {\n",
              "        vertical-align: top;\n",
              "    }\n",
              "\n",
              "    .dataframe thead th {\n",
              "        text-align: right;\n",
              "    }\n",
              "</style>\n",
              "<table border=\"1\" class=\"dataframe\">\n",
              "  <thead>\n",
              "    <tr style=\"text-align: right;\">\n",
              "      <th></th>\n",
              "      <th>facility_code</th>\n",
              "      <th>facility_name</th>\n",
              "      <th>hospital_type</th>\n",
              "      <th>owner</th>\n",
              "      <th>no_of_beds</th>\n",
              "      <th>no_of_cots</th>\n",
              "      <th>no_of_icu_beds</th>\n",
              "      <th>open_24_hours</th>\n",
              "      <th>open_weekends</th>\n",
              "      <th>operational_status</th>\n",
              "      <th>art</th>\n",
              "      <th>c-imci</th>\n",
              "      <th>fp</th>\n",
              "      <th>hbc</th>\n",
              "      <th>ipd</th>\n",
              "      <th>core_health_workforce_per_10,000_population</th>\n",
              "      <th>total_population</th>\n",
              "      <th>county</th>\n",
              "      <th>constituency</th>\n",
              "      <th>nearest_town</th>\n",
              "    </tr>\n",
              "  </thead>\n",
              "  <tbody>\n",
              "    <tr>\n",
              "      <th>0</th>\n",
              "      <td>19224</td>\n",
              "      <td>CDF Kiriari Dispensary</td>\n",
              "      <td>Dispensary</td>\n",
              "      <td>Ministry of Health</td>\n",
              "      <td>0</td>\n",
              "      <td>0</td>\n",
              "      <td>5.0</td>\n",
              "      <td>N</td>\n",
              "      <td>N</td>\n",
              "      <td>Operational</td>\n",
              "      <td>N</td>\n",
              "      <td>N</td>\n",
              "      <td>N</td>\n",
              "      <td>N</td>\n",
              "      <td>N</td>\n",
              "      <td>21.2</td>\n",
              "      <td>608599</td>\n",
              "      <td>embu</td>\n",
              "      <td>MANYATTA</td>\n",
              "      <td>Kiriari -market</td>\n",
              "    </tr>\n",
              "    <tr>\n",
              "      <th>1</th>\n",
              "      <td>19310</td>\n",
              "      <td>St Jude's Huruma Community Health Services</td>\n",
              "      <td>Medical Clinic</td>\n",
              "      <td>Private Practice - Unspecified</td>\n",
              "      <td>0</td>\n",
              "      <td>0</td>\n",
              "      <td>258.0</td>\n",
              "      <td>N</td>\n",
              "      <td>Y</td>\n",
              "      <td>Operational</td>\n",
              "      <td>N</td>\n",
              "      <td>N</td>\n",
              "      <td>N</td>\n",
              "      <td>N</td>\n",
              "      <td>N</td>\n",
              "      <td>26.3</td>\n",
              "      <td>4397073</td>\n",
              "      <td>nairobi</td>\n",
              "      <td>MATHARE</td>\n",
              "      <td>Kariobangi Market</td>\n",
              "    </tr>\n",
              "    <tr>\n",
              "      <th>2</th>\n",
              "      <td>14180</td>\n",
              "      <td>10 Engineer VCT</td>\n",
              "      <td>Dispensary</td>\n",
              "      <td>Armed Forces</td>\n",
              "      <td>0</td>\n",
              "      <td>0</td>\n",
              "      <td>0.0</td>\n",
              "      <td>N</td>\n",
              "      <td>N</td>\n",
              "      <td>Operational</td>\n",
              "      <td>Y</td>\n",
              "      <td>N</td>\n",
              "      <td>Y</td>\n",
              "      <td>Y</td>\n",
              "      <td>N</td>\n",
              "      <td>16.5</td>\n",
              "      <td>518580</td>\n",
              "      <td>laikipia</td>\n",
              "      <td>LAIKIPIA EAST</td>\n",
              "      <td>Nanyuki</td>\n",
              "    </tr>\n",
              "    <tr>\n",
              "      <th>3</th>\n",
              "      <td>17486</td>\n",
              "      <td>12 Engineers</td>\n",
              "      <td>Dispensary</td>\n",
              "      <td>Ministry of Health</td>\n",
              "      <td>0</td>\n",
              "      <td>0</td>\n",
              "      <td>19.0</td>\n",
              "      <td>N</td>\n",
              "      <td>N</td>\n",
              "      <td>Operational</td>\n",
              "      <td>N</td>\n",
              "      <td>N</td>\n",
              "      <td>N</td>\n",
              "      <td>N</td>\n",
              "      <td>N</td>\n",
              "      <td>22.8</td>\n",
              "      <td>2417735</td>\n",
              "      <td>kiambu</td>\n",
              "      <td>JUJA</td>\n",
              "      <td>0</td>\n",
              "    </tr>\n",
              "    <tr>\n",
              "      <th>4</th>\n",
              "      <td>18393</td>\n",
              "      <td>3Kl Maternity &amp; Nursing Home</td>\n",
              "      <td>Nursing Home</td>\n",
              "      <td>Private Practice - Clinical Officer</td>\n",
              "      <td>7</td>\n",
              "      <td>0</td>\n",
              "      <td>0.0</td>\n",
              "      <td>Y</td>\n",
              "      <td>Y</td>\n",
              "      <td>Operational</td>\n",
              "      <td>N</td>\n",
              "      <td>N</td>\n",
              "      <td>N</td>\n",
              "      <td>N</td>\n",
              "      <td>N</td>\n",
              "      <td>24.6</td>\n",
              "      <td>1117840</td>\n",
              "      <td>kajiado</td>\n",
              "      <td>KAJIADO NORTH</td>\n",
              "      <td>Ongata Ronga</td>\n",
              "    </tr>\n",
              "  </tbody>\n",
              "</table>\n",
              "</div>"
            ],
            "text/plain": [
              "  facility_code                               facility_name   hospital_type  \\\n",
              "0         19224                      CDF Kiriari Dispensary      Dispensary   \n",
              "1         19310  St Jude's Huruma Community Health Services  Medical Clinic   \n",
              "2         14180                             10 Engineer VCT      Dispensary   \n",
              "3         17486                                12 Engineers      Dispensary   \n",
              "4         18393                3Kl Maternity & Nursing Home    Nursing Home   \n",
              "\n",
              "                                 owner  no_of_beds  no_of_cots no_of_icu_beds  \\\n",
              "0                   Ministry of Health           0           0            5.0   \n",
              "1       Private Practice - Unspecified           0           0          258.0   \n",
              "2                         Armed Forces           0           0            0.0   \n",
              "3                   Ministry of Health           0           0           19.0   \n",
              "4  Private Practice - Clinical Officer           7           0            0.0   \n",
              "\n",
              "  open_24_hours open_weekends operational_status art c-imci fp hbc ipd  \\\n",
              "0             N             N        Operational   N      N  N   N   N   \n",
              "1             N             Y        Operational   N      N  N   N   N   \n",
              "2             N             N        Operational   Y      N  Y   Y   N   \n",
              "3             N             N        Operational   N      N  N   N   N   \n",
              "4             Y             Y        Operational   N      N  N   N   N   \n",
              "\n",
              "   core_health_workforce_per_10,000_population  total_population    county  \\\n",
              "0                                         21.2            608599      embu   \n",
              "1                                         26.3           4397073   nairobi   \n",
              "2                                         16.5            518580  laikipia   \n",
              "3                                         22.8           2417735    kiambu   \n",
              "4                                         24.6           1117840   kajiado   \n",
              "\n",
              "    constituency       nearest_town  \n",
              "0       MANYATTA    Kiriari -market  \n",
              "1        MATHARE  Kariobangi Market  \n",
              "2  LAIKIPIA EAST            Nanyuki  \n",
              "3           JUJA                  0  \n",
              "4  KAJIADO NORTH       Ongata Ronga  "
            ]
          },
          "execution_count": 96,
          "metadata": {},
          "output_type": "execute_result"
        }
      ],
      "source": [
        "def str_to_int(column):\n",
        "  return int(column)\n",
        "\n",
        "hospitals['no_of_beds'] = hospitals['no_of_beds'].map(str_to_int)\n",
        "hospitals['no_of_cots'] = hospitals['no_of_cots'].map(str_to_int)\n",
        "hospitals['total_population'] = hospitals['total_population'].str.replace(',', '').astype(int)\n",
        "\n",
        "hospitals['facility_code'] = hospitals['facility_code'].astype(str)\n",
        "hospitals.head()\n"
      ]
    },
    {
      "cell_type": "code",
      "execution_count": 97,
      "metadata": {
        "colab": {
          "base_uri": "https://localhost:8080/",
          "height": 364
        },
        "id": "xxxJc5tgb9dF",
        "outputId": "f2912da3-4d34-46a4-9efc-d64a6b29b3ce"
      },
      "outputs": [
        {
          "data": {
            "text/html": [
              "<div>\n",
              "<style scoped>\n",
              "    .dataframe tbody tr th:only-of-type {\n",
              "        vertical-align: middle;\n",
              "    }\n",
              "\n",
              "    .dataframe tbody tr th {\n",
              "        vertical-align: top;\n",
              "    }\n",
              "\n",
              "    .dataframe thead th {\n",
              "        text-align: right;\n",
              "    }\n",
              "</style>\n",
              "<table border=\"1\" class=\"dataframe\">\n",
              "  <thead>\n",
              "    <tr style=\"text-align: right;\">\n",
              "      <th></th>\n",
              "      <th>no_of_beds</th>\n",
              "      <th>no_of_cots</th>\n",
              "      <th>core_health_workforce_per_10,000_population</th>\n",
              "      <th>total_population</th>\n",
              "    </tr>\n",
              "  </thead>\n",
              "  <tbody>\n",
              "    <tr>\n",
              "      <th>count</th>\n",
              "      <td>10505.000000</td>\n",
              "      <td>10505.000000</td>\n",
              "      <td>10505.000000</td>\n",
              "      <td>1.050500e+04</td>\n",
              "    </tr>\n",
              "    <tr>\n",
              "      <th>mean</th>\n",
              "      <td>5.387911</td>\n",
              "      <td>0.738886</td>\n",
              "      <td>17.068633</td>\n",
              "      <td>1.421681e+06</td>\n",
              "    </tr>\n",
              "    <tr>\n",
              "      <th>std</th>\n",
              "      <td>29.742805</td>\n",
              "      <td>11.290590</td>\n",
              "      <td>7.056798</td>\n",
              "      <td>1.058686e+06</td>\n",
              "    </tr>\n",
              "    <tr>\n",
              "      <th>min</th>\n",
              "      <td>0.000000</td>\n",
              "      <td>0.000000</td>\n",
              "      <td>5.200000</td>\n",
              "      <td>1.439200e+05</td>\n",
              "    </tr>\n",
              "    <tr>\n",
              "      <th>25%</th>\n",
              "      <td>0.000000</td>\n",
              "      <td>0.000000</td>\n",
              "      <td>10.600000</td>\n",
              "      <td>7.812630e+05</td>\n",
              "    </tr>\n",
              "    <tr>\n",
              "      <th>50%</th>\n",
              "      <td>0.000000</td>\n",
              "      <td>0.000000</td>\n",
              "      <td>16.500000</td>\n",
              "      <td>1.117840e+06</td>\n",
              "    </tr>\n",
              "    <tr>\n",
              "      <th>75%</th>\n",
              "      <td>1.000000</td>\n",
              "      <td>0.000000</td>\n",
              "      <td>22.600000</td>\n",
              "      <td>1.545714e+06</td>\n",
              "    </tr>\n",
              "    <tr>\n",
              "      <th>max</th>\n",
              "      <td>1455.000000</td>\n",
              "      <td>1000.000000</td>\n",
              "      <td>33.800000</td>\n",
              "      <td>4.397073e+06</td>\n",
              "    </tr>\n",
              "  </tbody>\n",
              "</table>\n",
              "</div>"
            ],
            "text/plain": [
              "         no_of_beds    no_of_cots  \\\n",
              "count  10505.000000  10505.000000   \n",
              "mean       5.387911      0.738886   \n",
              "std       29.742805     11.290590   \n",
              "min        0.000000      0.000000   \n",
              "25%        0.000000      0.000000   \n",
              "50%        0.000000      0.000000   \n",
              "75%        1.000000      0.000000   \n",
              "max     1455.000000   1000.000000   \n",
              "\n",
              "       core_health_workforce_per_10,000_population  total_population  \n",
              "count                                 10505.000000      1.050500e+04  \n",
              "mean                                     17.068633      1.421681e+06  \n",
              "std                                       7.056798      1.058686e+06  \n",
              "min                                       5.200000      1.439200e+05  \n",
              "25%                                      10.600000      7.812630e+05  \n",
              "50%                                      16.500000      1.117840e+06  \n",
              "75%                                      22.600000      1.545714e+06  \n",
              "max                                      33.800000      4.397073e+06  "
            ]
          },
          "execution_count": 97,
          "metadata": {},
          "output_type": "execute_result"
        }
      ],
      "source": [
        "hospitals.describe()"
      ]
    },
    {
      "cell_type": "markdown",
      "metadata": {
        "id": "OTfWtiNbedNk"
      },
      "source": [
        "# We export our clean dataset into a csv file and then load it to our notebook."
      ]
    },
    {
      "cell_type": "code",
      "execution_count": 98,
      "metadata": {
        "id": "fxVVcLf-eci2"
      },
      "outputs": [],
      "source": [
        "hospitals = hospitals[hospitals['operational_status'] == 'Operational']\n",
        "\n",
        "hospitals.to_csv('hospitals.csv')\n",
        "\n",
        "# load csv into the notebook\n",
        "hospitals = pd.read_csv('hospitals.csv')"
      ]
    },
    {
      "cell_type": "markdown",
      "metadata": {
        "id": "k4cRgzJucc83"
      },
      "source": [
        "# DATA ANALYSIS"
      ]
    },
    {
      "cell_type": "markdown",
      "metadata": {
        "id": "0WF8cKLE_y0I"
      },
      "source": [
        "i.) Which county has the highest number of medical resources?"
      ]
    },
    {
      "cell_type": "code",
      "execution_count": 99,
      "metadata": {
        "colab": {
          "base_uri": "https://localhost:8080/",
          "height": 396
        },
        "id": "8vTEazlV_4uJ",
        "outputId": "60d19c13-0c8a-462e-b589-dcef82709cdd"
      },
      "outputs": [
        {
          "data": {
            "text/plain": [
              "<AxesSubplot:xlabel='county'>"
            ]
          },
          "execution_count": 99,
          "metadata": {},
          "output_type": "execute_result"
        },
        {
          "data": {
            "image/png": "[encoded data removed]",
            "text/plain": [
              "<Figure size 1440x720 with 1 Axes>"
            ]
          },
          "metadata": {
            "needs_background": "light"
          },
          "output_type": "display_data"
        }
      ],
      "source": [
        "# beds\n",
        "\n",
        "# Group data by county while summing number of beds\n",
        "normal_beds = hospitals.groupby(['county', 'total_population'], as_index=False)[['no_of_beds']].sum()\n",
        "\n",
        "# Sort values by no of beds.\n",
        "normal_beds.sort_values(by='no_of_beds', ascending=False).head()\n",
        "\n",
        "# Finding bed to 10000 population ratio.\n",
        "normal_beds['bed_ratio_per_10000pop'] = normal_beds['no_of_beds'] * 10000 * 1.0 / normal_beds['total_population']\n",
        "normal_beds.sort_values(by='bed_ratio_per_10000pop', ascending=1).head()\n",
        "\n",
        "normal_beds.plot.bar('county', 'bed_ratio_per_10000pop', width=1, figsize=(20,10))\n"
      ]
    },
    {
      "cell_type": "markdown",
      "metadata": {
        "id": "qMGQIdCzidv0"
      },
      "source": [
        "Kwale county lies slightly below the acceptable number of beds per 10000 population(5 beds per 10000 population). This is in accordance with World Health Organization report."
      ]
    },
    {
      "cell_type": "code",
      "execution_count": 100,
      "metadata": {
        "colab": {
          "base_uri": "https://localhost:8080/",
          "height": 285
        },
        "id": "kPyBSaDDABA9",
        "outputId": "cdd960d7-cb1c-4171-d268-500ca651a965"
      },
      "outputs": [
        {
          "data": {
            "text/plain": [
              "<AxesSubplot:>"
            ]
          },
          "execution_count": 100,
          "metadata": {},
          "output_type": "execute_result"
        },
        {
          "data": {
            "image/png": "[encoded data removed]",
            "text/plain": [
              "<Figure size 432x288 with 1 Axes>"
            ]
          },
          "metadata": {
            "needs_background": "light"
          },
          "output_type": "display_data"
        }
      ],
      "source": [
        "#number of cots\n",
        "cots = hospitals.groupby(['county'], as_index=False)[['no_of_cots']].sum()\n",
        "cots.sort_values(by='no_of_cots').head()\n",
        "cots.plot.bar()"
      ]
    },
    {
      "cell_type": "markdown",
      "metadata": {
        "id": "deqqbs6VFmKU"
      },
      "source": [
        "ii.) Number of hospitals per county"
      ]
    },
    {
      "cell_type": "code",
      "execution_count": 101,
      "metadata": {
        "colab": {
          "base_uri": "https://localhost:8080/",
          "height": 456
        },
        "id": "kN5yE_HJFqsL",
        "outputId": "079b81a9-7162-45c0-9ff0-3e03e3309887"
      },
      "outputs": [
        {
          "data": {
            "text/plain": [
              "<AxesSubplot:xlabel='county'>"
            ]
          },
          "execution_count": 101,
          "metadata": {},
          "output_type": "execute_result"
        },
        {
          "data": {
            "image/png": "[encoded data removed]",
            "text/plain": [
              "<Figure size 1080x648 with 1 Axes>"
            ]
          },
          "metadata": {
            "needs_background": "light"
          },
          "output_type": "display_data"
        }
      ],
      "source": [
        "no_of_hospitals = hospitals.groupby(['county', 'total_population', 'core_health_workforce_per_10,000_population'], as_index=False)[['facility_code']].count()\n",
        "\n",
        "no_of_hospitals.rename(columns={'facility_code': 'no_of_hospitals'}, inplace=True)\n",
        "\n",
        "no_of_hospitals.sort_values(by='total_population', ascending=0)\n",
        "no_of_hospitals['hospital_pop_ratio'] = no_of_hospitals['no_of_hospitals']*1.0/ no_of_hospitals['total_population']\n",
        "no_of_hospitals.sort_values(by='hospital_pop_ratio', ascending=1).head()\n",
        "\n",
        "no_of_hospitals.plot.bar('county', 'hospital_pop_ratio', width=1, figsize=(15,9), grid=True)\n"
      ]
    },
    {
      "cell_type": "markdown",
      "metadata": {
        "id": "uqIhq98wt129"
      },
      "source": [
        "iii.) Find the county with lowest number of core_health_workforce_per_10,000_population."
      ]
    },
    {
      "cell_type": "code",
      "execution_count": 102,
      "metadata": {
        "colab": {
          "base_uri": "https://localhost:8080/",
          "height": 577
        },
        "id": "iceO6M63Wq90",
        "outputId": "9fa4acd4-26cb-4ec6-bdd6-1612510b33a6"
      },
      "outputs": [
        {
          "data": {
            "text/plain": [
              "<AxesSubplot:xlabel='county'>"
            ]
          },
          "execution_count": 102,
          "metadata": {},
          "output_type": "execute_result"
        },
        {
          "data": {
            "image/png": "[encoded data removed]",
            "text/plain": [
              "<Figure size 864x648 with 1 Axes>"
            ]
          },
          "metadata": {
            "needs_background": "light"
          },
          "output_type": "display_data"
        }
      ],
      "source": [
        "# Sort records by core_health_workforce_per_10,000_population\n",
        "\n",
        "# Add the column core_health_workforce_per_10,000_population to the no_of_hospitals dataframe.\n",
        "no_of_hospitals.sort_values(by='core_health_workforce_per_10,000_population', ascending=1).head()\n",
        "no_of_hospitals.plot.bar('county', 'core_health_workforce_per_10,000_population', width=1, figsize=(12,9), grid=True)"
      ]
    },
    {
      "cell_type": "markdown",
      "metadata": {
        "id": "hDb_YAM2JSq-"
      },
      "source": [
        "The minimum number of healthworkforce as stated by WHO is a minimum of 4.45 healthworkers for 10000 population. This criteria has been met successfully with Mandera having the least ratio of 5.2. "
      ]
    },
    {
      "cell_type": "code",
      "execution_count": 103,
      "metadata": {
        "colab": {
          "base_uri": "https://localhost:8080/",
          "height": 270
        },
        "id": "amiCIwwXp1A0",
        "outputId": "825bf915-75a6-4d6a-8e8e-c815c1409426"
      },
      "outputs": [
        {
          "data": {
            "text/html": [
              "<div>\n",
              "<style scoped>\n",
              "    .dataframe tbody tr th:only-of-type {\n",
              "        vertical-align: middle;\n",
              "    }\n",
              "\n",
              "    .dataframe tbody tr th {\n",
              "        vertical-align: top;\n",
              "    }\n",
              "\n",
              "    .dataframe thead th {\n",
              "        text-align: right;\n",
              "    }\n",
              "</style>\n",
              "<table border=\"1\" class=\"dataframe\">\n",
              "  <thead>\n",
              "    <tr style=\"text-align: right;\">\n",
              "      <th></th>\n",
              "      <th>county</th>\n",
              "      <th>total_population</th>\n",
              "      <th>core_health_workforce_per_10,000_population</th>\n",
              "      <th>no_of_hospitals</th>\n",
              "      <th>hospital_pop_ratio</th>\n",
              "      <th>healthworker_to_pop_ratio</th>\n",
              "    </tr>\n",
              "  </thead>\n",
              "  <tbody>\n",
              "    <tr>\n",
              "      <th>3</th>\n",
              "      <td>busia</td>\n",
              "      <td>893681</td>\n",
              "      <td>11.9</td>\n",
              "      <td>107</td>\n",
              "      <td>0.000120</td>\n",
              "      <td>840.336134</td>\n",
              "    </tr>\n",
              "    <tr>\n",
              "      <th>5</th>\n",
              "      <td>embu</td>\n",
              "      <td>608599</td>\n",
              "      <td>21.2</td>\n",
              "      <td>170</td>\n",
              "      <td>0.000279</td>\n",
              "      <td>471.698113</td>\n",
              "    </tr>\n",
              "    <tr>\n",
              "      <th>7</th>\n",
              "      <td>homabay</td>\n",
              "      <td>1131950</td>\n",
              "      <td>14.2</td>\n",
              "      <td>225</td>\n",
              "      <td>0.000199</td>\n",
              "      <td>704.225352</td>\n",
              "    </tr>\n",
              "    <tr>\n",
              "      <th>8</th>\n",
              "      <td>isiolo</td>\n",
              "      <td>268002</td>\n",
              "      <td>22.0</td>\n",
              "      <td>53</td>\n",
              "      <td>0.000198</td>\n",
              "      <td>454.545455</td>\n",
              "    </tr>\n",
              "    <tr>\n",
              "      <th>9</th>\n",
              "      <td>kajiado</td>\n",
              "      <td>1117840</td>\n",
              "      <td>24.6</td>\n",
              "      <td>300</td>\n",
              "      <td>0.000268</td>\n",
              "      <td>406.504065</td>\n",
              "    </tr>\n",
              "  </tbody>\n",
              "</table>\n",
              "</div>"
            ],
            "text/plain": [
              "    county  total_population  core_health_workforce_per_10,000_population  \\\n",
              "3    busia            893681                                         11.9   \n",
              "5     embu            608599                                         21.2   \n",
              "7  homabay           1131950                                         14.2   \n",
              "8   isiolo            268002                                         22.0   \n",
              "9  kajiado           1117840                                         24.6   \n",
              "\n",
              "   no_of_hospitals  hospital_pop_ratio  healthworker_to_pop_ratio  \n",
              "3              107            0.000120                 840.336134  \n",
              "5              170            0.000279                 471.698113  \n",
              "7              225            0.000199                 704.225352  \n",
              "8               53            0.000198                 454.545455  \n",
              "9              300            0.000268                 406.504065  "
            ]
          },
          "execution_count": 103,
          "metadata": {},
          "output_type": "execute_result"
        }
      ],
      "source": [
        "no_of_hospitals['healthworker_to_pop_ratio'] = 10000/ no_of_hospitals['core_health_workforce_per_10,000_population']\n",
        "no_of_hospitals.sort_values(by='healthworker_to_pop_ratio', ascending=1).head()\n",
        "no_of_hospitals[no_of_hospitals['healthworker_to_pop_ratio'] < 854.0].head()"
      ]
    },
    {
      "cell_type": "markdown",
      "metadata": {
        "id": "29-ju_FBCv8j"
      },
      "source": [
        "iv.) How many hospitals are open at night hours for emergencies per county?\n"
      ]
    },
    {
      "cell_type": "code",
      "execution_count": 104,
      "metadata": {
        "colab": {
          "base_uri": "https://localhost:8080/",
          "height": 383
        },
        "id": "OxfRfsO7Cscl",
        "outputId": "a590c85f-e723-4788-b103-d761fbe23858"
      },
      "outputs": [
        {
          "data": {
            "text/plain": [
              "<AxesSubplot:xlabel='county'>"
            ]
          },
          "execution_count": 104,
          "metadata": {},
          "output_type": "execute_result"
        },
        {
          "data": {
            "image/png": "[encoded data removed]",
            "text/plain": [
              "<Figure size 864x360 with 1 Axes>"
            ]
          },
          "metadata": {
            "needs_background": "light"
          },
          "output_type": "display_data"
        }
      ],
      "source": [
        "opened_24_hrs = hospitals[hospitals['open_24_hours'].map(lambda open_24_hours: 'Y' in open_24_hours)]\n",
        "opened_24_hrs = opened_24_hrs.groupby(['county', 'total_population'], as_index=False)[['open_24_hours']].count()\n",
        "opened_24_hrs.sort_values(by='open_24_hours', ascending=1).head()\n",
        "opened_24_hrs.plot.bar('county', 'open_24_hours', width=1, figsize=(12,5), grid=True)"
      ]
    },
    {
      "cell_type": "markdown",
      "metadata": {
        "id": "5LfpuhncEvVQ"
      },
      "source": [
        "Nairobi has the largest number of hospitals opening 24hrs. Lamu has the least number of hospitals that can attend to night emergencies."
      ]
    },
    {
      "cell_type": "markdown",
      "metadata": {
        "id": "sMHTkFA2A2Ws"
      },
      "source": [
        "v.) Determining the number of ICU beds per county."
      ]
    },
    {
      "cell_type": "code",
      "execution_count": 105,
      "metadata": {
        "colab": {
          "base_uri": "https://localhost:8080/",
          "height": 374
        },
        "id": "9dNwkkTFA1gR",
        "outputId": "2781cf6f-d48e-47f5-f10f-8ebf0872b7ec"
      },
      "outputs": [
        {
          "data": {
            "text/plain": [
              "<AxesSubplot:xlabel='county'>"
            ]
          },
          "execution_count": 105,
          "metadata": {},
          "output_type": "execute_result"
        },
        {
          "data": {
            "image/png": "[encoded data removed]",
            "text/plain": [
              "<Figure size 864x360 with 1 Axes>"
            ]
          },
          "metadata": {
            "needs_background": "light"
          },
          "output_type": "display_data"
        }
      ],
      "source": [
        "\n",
        "hospitals_icu_beds = hospitals.groupby(['county'], as_index=False)[['no_of_icu_beds']].sum()\n",
        "hospitals_icu_beds.plot.bar('county', 'no_of_icu_beds', width=1, figsize=(12,5), grid=True)"
      ]
    },
    {
      "cell_type": "markdown",
      "metadata": {
        "id": "2tjE4-bh2PwD"
      },
      "source": [
        "Very few hospitals countrywide offer icu services. Nairobi has the highest number of ICU beds. Counties such as Mandera, Marsabit, Nyamira, Nyandarua , Siaya, Tana River, Turkana, Wajir and Vihiga had no icu services as of March 2020."
      ]
    },
    {
      "cell_type": "markdown",
      "metadata": {
        "id": "PcvEARBWBMts"
      },
      "source": [
        "vi.) How many (in)patients can be admitted when the hospital is at full capacity per county?"
      ]
    },
    {
      "cell_type": "code",
      "execution_count": 106,
      "metadata": {
        "colab": {
          "base_uri": "https://localhost:8080/",
          "height": 469
        },
        "id": "8ps1VYhNBKOp",
        "outputId": "619eec1c-510f-488d-8523-28c48d3ea781"
      },
      "outputs": [
        {
          "data": {
            "text/plain": [
              "<AxesSubplot:xlabel='county'>"
            ]
          },
          "execution_count": 106,
          "metadata": {},
          "output_type": "execute_result"
        },
        {
          "data": {
            "image/png": "[encoded data removed]",
            "text/plain": [
              "<Figure size 1080x648 with 1 Axes>"
            ]
          },
          "metadata": {
            "needs_background": "light"
          },
          "output_type": "display_data"
        }
      ],
      "source": [
        "hospitals['total_beds'] = hospitals['no_of_icu_beds'] + hospitals['no_of_beds']\n",
        "hospitals_beds = hospitals.groupby(['county', 'total_population'], as_index=False)[['total_beds']].sum()\n",
        "hospitals_beds.sort_values(by='total_beds', ascending=True).head()\n",
        "hospitals_beds['bed_ratio_per_10000pop'] = hospitals_beds['total_beds'] * 10000 * 1.0/ hospitals_beds['total_population']\n",
        "hospitals_beds.sort_values(by='bed_ratio_per_10000pop', ascending=True).head()\n",
        "hospitals_below_threshold =hospitals_beds[hospitals_beds['bed_ratio_per_10000pop'] < 20 ]\n",
        "hospitals_below_threshold.sort_values(by='bed_ratio_per_10000pop', ascending=1)\n",
        "\n",
        "hospitals_beds.plot.bar('county', 'bed_ratio_per_10000pop', width=1, figsize=(15,9), grid=True)\n"
      ]
    },
    {
      "cell_type": "markdown",
      "metadata": {
        "id": "4lkiVRvI8k7K"
      },
      "source": [
        "<b>Mandera, Kilfi, Wajir, Nandi, Tan River, Turkana, Siaya, Nyandarua, Bomet, Kitui, Baringo, Lamu, Kajiado, Busia, Marsabit, Vihiga, Kwale, Laikipia, Nyamira, Migori and Narok</b> counties lie below the accpetable standard of 20 beds per 10000 population. Mandera has the list ratio of 5.106881."
      ]
    },
    {
      "cell_type": "markdown",
      "metadata": {
        "id": "O3tMhabI6zJY"
      },
      "source": [
        "vi.) The percentage (%) of private and government owned hospitals per county."
      ]
    },
    {
      "cell_type": "code",
      "execution_count": 107,
      "metadata": {
        "colab": {
          "base_uri": "https://localhost:8080/",
          "height": 461
        },
        "id": "Lg2piHLP-ENF",
        "outputId": "6370e870-cc3e-43eb-d0c3-8bb8e6b2258e"
      },
      "outputs": [
        {
          "name": "stdout",
          "output_type": "stream",
          "text": [
            "Ministry of Health            4138\n",
            "Local Authority                104\n",
            "Community Development Fund      30\n",
            "Local Authority T Fund           3\n",
            "Name: owner, dtype: int64\n"
          ]
        },
        {
          "data": {
            "text/plain": [
              "<AxesSubplot:ylabel='owner'>"
            ]
          },
          "execution_count": 107,
          "metadata": {},
          "output_type": "execute_result"
        },
        {
          "data": {
            "image/png": "[encoded data removed]",
            "text/plain": [
              "<Figure size 432x432 with 1 Axes>"
            ]
          },
          "metadata": {},
          "output_type": "display_data"
        }
      ],
      "source": [
        "# Finding the percentage of government hospitals versus private hospitals in the whole country\n",
        "gvt = hospitals[(hospitals['owner'] == 'Ministry of Health') | \n",
        "                (hospitals['owner'] == 'Local Authority T Fund') | \n",
        "                (hospitals['owner'] == 'Community Development Fund') |\n",
        "                (hospitals['owner'] == 'Local Authority')]\n",
        "\n",
        "not_gvt = hospitals[(hospitals['owner'] != 'Ministry of Health') & \n",
        "                (hospitals['owner'] != 'Local Authority T Fund') & \n",
        "                (hospitals['owner'] != 'Community Development Fund') &\n",
        "                (hospitals['owner'] != 'Local Authority')]\n",
        "\n",
        "\n",
        "gvt_count = gvt['owner'].value_counts()\n",
        "# print the counts\n",
        "print(gvt_count)\n",
        "gvt_count.plot(kind='pie', textprops={'fontsize': 10}, colors=['violet', 'lime'], figsize=(6,6))"
      ]
    },
    {
      "cell_type": "code",
      "execution_count": 108,
      "metadata": {
        "colab": {
          "base_uri": "https://localhost:8080/",
          "height": 427
        },
        "id": "4XjSXO6Sml-L",
        "outputId": "ad13e661-1e9b-45eb-c49b-22dfa4cbb0be"
      },
      "outputs": [
        {
          "data": {
            "text/plain": [
              "<AxesSubplot:>"
            ]
          },
          "execution_count": 108,
          "metadata": {},
          "output_type": "execute_result"
        },
        {
          "data": {
            "image/png": "[encoded data removed]",
            "text/plain": [
              "<Figure size 432x288 with 1 Axes>"
            ]
          },
          "metadata": {
            "needs_background": "light"
          },
          "output_type": "display_data"
        }
      ],
      "source": [
        "# visualize types of government hospitals on a bar graph.\n",
        "gvt_count.plot.bar()\n",
        "# print the counts\n",
        "#print(gvt_count)\n"
      ]
    },
    {
      "cell_type": "code",
      "execution_count": 109,
      "metadata": {
        "id": "Lo-PfuwvKAEP"
      },
      "outputs": [],
      "source": [
        "# To find the percentage (%) of private and government owned hospitals per county.\n",
        "total_facilities = hospitals.groupby(['county','core_health_workforce_per_10,000_population','total_population'],\n",
        "                                     as_index=False)[['facility_code']].count()\n",
        "total_facilities.head()\n",
        "\n",
        "# Rename facility_code column to no_of_hospitals\n",
        "total_facilities.rename(columns={'facility_code':'total_hospitals'}, inplace=True)  \n",
        "\n",
        "# convert no of hospitlas to int\n",
        "total_facilities['total_hospitals'] =  total_facilities['total_hospitals'].astype(int)  \n"
      ]
    },
    {
      "cell_type": "code",
      "execution_count": 110,
      "metadata": {
        "colab": {
          "base_uri": "https://localhost:8080/",
          "height": 472
        },
        "id": "Ul6pnCTuN8Nv",
        "outputId": "385b7dc1-5b41-4151-bf29-97efe17c10a8"
      },
      "outputs": [
        {
          "data": {
            "text/plain": [
              "<AxesSubplot:xlabel='county'>"
            ]
          },
          "execution_count": 110,
          "metadata": {},
          "output_type": "execute_result"
        },
        {
          "data": {
            "image/png": "[encoded data removed]",
            "text/plain": [
              "<Figure size 1080x648 with 1 Axes>"
            ]
          },
          "metadata": {
            "needs_background": "light"
          },
          "output_type": "display_data"
        }
      ],
      "source": [
        "# count hospitals for each county\n",
        "total_gvt = gvt.groupby(['county', 'total_population','core_health_workforce_per_10,000_population'],\n",
        "                        as_index=False)[['facility_name']].count()\n",
        "# Rename facility_name column to no_of_hospitals\n",
        "total_gvt.rename(columns={'facility_name':'no_of_hospitals'}, inplace=True)                        \n",
        "total_gvt['no_of_hospitals'] = total_gvt['no_of_hospitals'].astype(int) \n",
        "\n",
        "total_facilities['no_of_gvt_hospitals_%']  = (\n",
        "   total_gvt['no_of_hospitals'] * 1.0/total_facilities['total_hospitals']) * 100\n",
        "total_facilities['private_hospitals_%'] = 100 -  total_facilities['no_of_gvt_hospitals_%']   \n",
        "total_facilities.sort_values(by='no_of_gvt_hospitals_%', ascending=1).head()\n",
        "\n",
        "total_facilities.plot.bar('county', 'no_of_gvt_hospitals_%', width=1, figsize=(15,9), grid=True)"
      ]
    },
    {
      "cell_type": "markdown",
      "metadata": {
        "id": "NXNCbDKDRDxS"
      },
      "source": [
        "Only 5.9% of the hospitals in Nairobi are government hospitals. Government hospitals offer free medical services with only a small charge which is more affordable to the public compared to private hospitals:\n",
        "Private hospital inpatient fees averages at 9500/- while public hospital inpatient fees averages at \n",
        "4000/-. \n",
        "Private hospitals ICU charges averages at 30k while public hospital ICU charges averages at  \n",
        "Maternal charges for private hospitals averages at 200k. "
      ]
    },
    {
      "cell_type": "code",
      "execution_count": 111,
      "metadata": {
        "colab": {
          "base_uri": "https://localhost:8080/",
          "height": 472
        },
        "id": "agr_9OUtttKq",
        "outputId": "245d1d3f-16ed-4055-83e6-d9e244c40537"
      },
      "outputs": [
        {
          "data": {
            "text/plain": [
              "<AxesSubplot:xlabel='county'>"
            ]
          },
          "execution_count": 111,
          "metadata": {},
          "output_type": "execute_result"
        },
        {
          "data": {
            "image/png": "[encoded data removed]",
            "text/plain": [
              "<Figure size 1080x648 with 1 Axes>"
            ]
          },
          "metadata": {
            "needs_background": "light"
          },
          "output_type": "display_data"
        }
      ],
      "source": [
        "# Find hospital with lowest number of private hospitals\n",
        "total_facilities.plot.bar('county', 'private_hospitals_%', width=1, figsize=(15,9), grid=True)"
      ]
    },
    {
      "cell_type": "code",
      "execution_count": 112,
      "metadata": {
        "colab": {
          "base_uri": "https://localhost:8080/",
          "height": 469
        },
        "id": "_RHP2FC2xFIh",
        "outputId": "284bd9c0-bfbd-438f-e8fc-1e707499fca6"
      },
      "outputs": [
        {
          "data": {
            "text/plain": [
              "<AxesSubplot:xlabel='county'>"
            ]
          },
          "execution_count": 112,
          "metadata": {},
          "output_type": "execute_result"
        },
        {
          "data": {
            "image/png": "[encoded data removed]",
            "text/plain": [
              "<Figure size 1080x648 with 1 Axes>"
            ]
          },
          "metadata": {
            "needs_background": "light"
          },
          "output_type": "display_data"
        }
      ],
      "source": [
        "# plot total number of facilities per county\n",
        "total_facilities.plot.bar('county', 'total_hospitals', width=1, figsize=(15,9), grid=True)"
      ]
    },
    {
      "cell_type": "markdown",
      "metadata": {
        "id": "YY6c7IYhxy6u"
      },
      "source": [
        "Lamu, Isiolo, Tana River, Mandera and Vihiga have less than 100 hospitals despite having a population of more than 100000. Moreover, there are few healthworkers in each hospital. This implies that the ratio of health workers to the total population is also small. "
      ]
    },
    {
      "cell_type": "code",
      "execution_count": 113,
      "metadata": {
        "colab": {
          "base_uri": "https://localhost:8080/",
          "height": 206
        },
        "id": "zg8Z3u2PgGFq",
        "outputId": "5008eab3-93f1-4724-a016-9dda0bb2be13"
      },
      "outputs": [
        {
          "data": {
            "text/html": [
              "<div>\n",
              "<style scoped>\n",
              "    .dataframe tbody tr th:only-of-type {\n",
              "        vertical-align: middle;\n",
              "    }\n",
              "\n",
              "    .dataframe tbody tr th {\n",
              "        vertical-align: top;\n",
              "    }\n",
              "\n",
              "    .dataframe thead th {\n",
              "        text-align: right;\n",
              "    }\n",
              "</style>\n",
              "<table border=\"1\" class=\"dataframe\">\n",
              "  <thead>\n",
              "    <tr style=\"text-align: right;\">\n",
              "      <th></th>\n",
              "      <th>county</th>\n",
              "      <th>facility_code</th>\n",
              "    </tr>\n",
              "  </thead>\n",
              "  <tbody>\n",
              "    <tr>\n",
              "      <th>38</th>\n",
              "      <td>taitataveta</td>\n",
              "      <td>1</td>\n",
              "    </tr>\n",
              "    <tr>\n",
              "      <th>46</th>\n",
              "      <td>westpokot</td>\n",
              "      <td>2</td>\n",
              "    </tr>\n",
              "    <tr>\n",
              "      <th>8</th>\n",
              "      <td>isiolo</td>\n",
              "      <td>2</td>\n",
              "    </tr>\n",
              "    <tr>\n",
              "      <th>45</th>\n",
              "      <td>wajir</td>\n",
              "      <td>4</td>\n",
              "    </tr>\n",
              "    <tr>\n",
              "      <th>20</th>\n",
              "      <td>lamu</td>\n",
              "      <td>4</td>\n",
              "    </tr>\n",
              "  </tbody>\n",
              "</table>\n",
              "</div>"
            ],
            "text/plain": [
              "         county  facility_code\n",
              "38  taitataveta              1\n",
              "46    westpokot              2\n",
              "8        isiolo              2\n",
              "45        wajir              4\n",
              "20         lamu              4"
            ]
          },
          "execution_count": 113,
          "metadata": {},
          "output_type": "execute_result"
        }
      ],
      "source": [
        "# number of antiretroviral therapy per county\n",
        "art_ = hospitals[(hospitals['art']=='Y') & (hospitals['operational_status']=='Operational')]\n",
        "art_ = art_.groupby('county',as_index=False)['facility_code'].count()\n",
        "art_.sort_values(by='facility_code', ascending=1).head()"
      ]
    },
    {
      "cell_type": "code",
      "execution_count": 114,
      "metadata": {
        "colab": {
          "base_uri": "https://localhost:8080/",
          "height": 206
        },
        "id": "Zv0ZjhopgTjX",
        "outputId": "30601693-03dc-414a-9ca8-d2d729443ef8"
      },
      "outputs": [
        {
          "data": {
            "text/html": [
              "<div>\n",
              "<style scoped>\n",
              "    .dataframe tbody tr th:only-of-type {\n",
              "        vertical-align: middle;\n",
              "    }\n",
              "\n",
              "    .dataframe tbody tr th {\n",
              "        vertical-align: top;\n",
              "    }\n",
              "\n",
              "    .dataframe thead th {\n",
              "        text-align: right;\n",
              "    }\n",
              "</style>\n",
              "<table border=\"1\" class=\"dataframe\">\n",
              "  <thead>\n",
              "    <tr style=\"text-align: right;\">\n",
              "      <th></th>\n",
              "      <th>county</th>\n",
              "      <th>facility_code</th>\n",
              "    </tr>\n",
              "  </thead>\n",
              "  <tbody>\n",
              "    <tr>\n",
              "      <th>38</th>\n",
              "      <td>taitataveta</td>\n",
              "      <td>12</td>\n",
              "    </tr>\n",
              "    <tr>\n",
              "      <th>20</th>\n",
              "      <td>lamu</td>\n",
              "      <td>26</td>\n",
              "    </tr>\n",
              "    <tr>\n",
              "      <th>23</th>\n",
              "      <td>mandera</td>\n",
              "      <td>29</td>\n",
              "    </tr>\n",
              "    <tr>\n",
              "      <th>39</th>\n",
              "      <td>tanariver</td>\n",
              "      <td>33</td>\n",
              "    </tr>\n",
              "    <tr>\n",
              "      <th>36</th>\n",
              "      <td>samburu</td>\n",
              "      <td>33</td>\n",
              "    </tr>\n",
              "  </tbody>\n",
              "</table>\n",
              "</div>"
            ],
            "text/plain": [
              "         county  facility_code\n",
              "38  taitataveta             12\n",
              "20         lamu             26\n",
              "23      mandera             29\n",
              "39    tanariver             33\n",
              "36      samburu             33"
            ]
          },
          "execution_count": 114,
          "metadata": {},
          "output_type": "execute_result"
        }
      ],
      "source": [
        "# number of family practitioners per county\n",
        "fp_= hospitals[(hospitals['fp']=='Y') & (hospitals['operational_status']=='Operational')]\n",
        "fp_ = fp_.groupby('county',as_index=False)['facility_code'].count()\n",
        "fp_.sort_values(by='facility_code', ascending=1).head()"
      ]
    },
    {
      "cell_type": "code",
      "execution_count": 115,
      "metadata": {
        "colab": {
          "base_uri": "https://localhost:8080/",
          "height": 206
        },
        "id": "K6EUdxh2gW94",
        "outputId": "813b8335-1f22-4042-f90b-0c203280c697"
      },
      "outputs": [
        {
          "data": {
            "text/html": [
              "<div>\n",
              "<style scoped>\n",
              "    .dataframe tbody tr th:only-of-type {\n",
              "        vertical-align: middle;\n",
              "    }\n",
              "\n",
              "    .dataframe tbody tr th {\n",
              "        vertical-align: top;\n",
              "    }\n",
              "\n",
              "    .dataframe thead th {\n",
              "        text-align: right;\n",
              "    }\n",
              "</style>\n",
              "<table border=\"1\" class=\"dataframe\">\n",
              "  <thead>\n",
              "    <tr style=\"text-align: right;\">\n",
              "      <th></th>\n",
              "      <th>county</th>\n",
              "      <th>facility_code</th>\n",
              "    </tr>\n",
              "  </thead>\n",
              "  <tbody>\n",
              "    <tr>\n",
              "      <th>23</th>\n",
              "      <td>mandera</td>\n",
              "      <td>1</td>\n",
              "    </tr>\n",
              "    <tr>\n",
              "      <th>4</th>\n",
              "      <td>elgeyomarakwet</td>\n",
              "      <td>8</td>\n",
              "    </tr>\n",
              "    <tr>\n",
              "      <th>6</th>\n",
              "      <td>garissa</td>\n",
              "      <td>10</td>\n",
              "    </tr>\n",
              "    <tr>\n",
              "      <th>14</th>\n",
              "      <td>kirinyaga</td>\n",
              "      <td>12</td>\n",
              "    </tr>\n",
              "    <tr>\n",
              "      <th>20</th>\n",
              "      <td>lamu</td>\n",
              "      <td>14</td>\n",
              "    </tr>\n",
              "  </tbody>\n",
              "</table>\n",
              "</div>"
            ],
            "text/plain": [
              "            county  facility_code\n",
              "23         mandera              1\n",
              "4   elgeyomarakwet              8\n",
              "6          garissa             10\n",
              "14       kirinyaga             12\n",
              "20            lamu             14"
            ]
          },
          "execution_count": 115,
          "metadata": {},
          "output_type": "execute_result"
        }
      ],
      "source": [
        "# number of haemoglobin testing per county\n",
        "hbc_= hospitals[(hospitals['hbc']=='Y') & (hospitals['operational_status']=='Operational')]\n",
        "hbc_ = hbc_.groupby('county',as_index=False)['facility_code'].count()\n",
        "hbc_.sort_values(by='facility_code', ascending=1).head()"
      ]
    },
    {
      "cell_type": "code",
      "execution_count": 116,
      "metadata": {
        "colab": {
          "base_uri": "https://localhost:8080/",
          "height": 206
        },
        "id": "66dqJtTagkRs",
        "outputId": "831fff58-3637-4a87-cd6d-6847b35bb549"
      },
      "outputs": [
        {
          "data": {
            "text/html": [
              "<div>\n",
              "<style scoped>\n",
              "    .dataframe tbody tr th:only-of-type {\n",
              "        vertical-align: middle;\n",
              "    }\n",
              "\n",
              "    .dataframe tbody tr th {\n",
              "        vertical-align: top;\n",
              "    }\n",
              "\n",
              "    .dataframe thead th {\n",
              "        text-align: right;\n",
              "    }\n",
              "</style>\n",
              "<table border=\"1\" class=\"dataframe\">\n",
              "  <thead>\n",
              "    <tr style=\"text-align: right;\">\n",
              "      <th></th>\n",
              "      <th>county</th>\n",
              "      <th>facility_code</th>\n",
              "    </tr>\n",
              "  </thead>\n",
              "  <tbody>\n",
              "    <tr>\n",
              "      <th>20</th>\n",
              "      <td>lamu</td>\n",
              "      <td>18</td>\n",
              "    </tr>\n",
              "    <tr>\n",
              "      <th>23</th>\n",
              "      <td>mandera</td>\n",
              "      <td>22</td>\n",
              "    </tr>\n",
              "    <tr>\n",
              "      <th>19</th>\n",
              "      <td>laikipia</td>\n",
              "      <td>23</td>\n",
              "    </tr>\n",
              "    <tr>\n",
              "      <th>36</th>\n",
              "      <td>samburu</td>\n",
              "      <td>30</td>\n",
              "    </tr>\n",
              "    <tr>\n",
              "      <th>39</th>\n",
              "      <td>tanariver</td>\n",
              "      <td>36</td>\n",
              "    </tr>\n",
              "  </tbody>\n",
              "</table>\n",
              "</div>"
            ],
            "text/plain": [
              "       county  facility_code\n",
              "20       lamu             18\n",
              "23    mandera             22\n",
              "19   laikipia             23\n",
              "36    samburu             30\n",
              "39  tanariver             36"
            ]
          },
          "execution_count": 116,
          "metadata": {},
          "output_type": "execute_result"
        }
      ],
      "source": [
        "# number of intermmitent peritoneal dialysis per county\n",
        "ipd_= hospitals[(hospitals['ipd']=='Y') & (hospitals['operational_status']=='Operational')]\n",
        "ipd_ = ipd_.groupby('county',as_index=False)['facility_code'].count()\n",
        "ipd_.sort_values(by='facility_code', ascending=1).head().head()"
      ]
    }
  ],
  "metadata": {
    "colab": {
      "collapsed_sections": [],
      "name": "graph moringa_final_ip.ipynb",
      "provenance": []
    },
    "kernelspec": {
      "display_name": "Python 3",
      "name": "python3"
    },
    "language_info": {
      "codemirror_mode": {
        "name": "ipython",
        "version": 3
      },
      "file_extension": ".py",
      "mimetype": "text/x-python",
      "name": "python",
      "nbconvert_exporter": "python",
      "pygments_lexer": "ipython3",
      "version": "3.9.7"
    }
  },
  "nbformat": 4,
  "nbformat_minor": 0
}
